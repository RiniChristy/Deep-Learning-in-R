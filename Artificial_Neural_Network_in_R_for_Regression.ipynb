{
  "metadata": {
    "kernelspec": {
      "name": "ir",
      "display_name": "R",
      "language": "R"
    },
    "language_info": {
      "name": "R",
      "codemirror_mode": "r",
      "pygments_lexer": "r",
      "mimetype": "text/x-r-source",
      "file_extension": ".r",
      "version": "4.0.5"
    },
    "colab": {
      "name": "Artificial Neural Network in R for Regression.ipynb",
      "provenance": []
    }
  },
  "nbformat_minor": 0,
  "nbformat": 4,
  "cells": [
    {
      "cell_type": "markdown",
      "source": [
        "# **Artificial Neural Network in R for Regression**"
      ],
      "metadata": {
        "id": "DQknCiz0-W3l"
      }
    },
    {
      "cell_type": "markdown",
      "source": [
        "## **Data Set Information:**\n",
        "The dataset contains 9568 data points collected from a Combined Cycle Power Plant over 6 years (2006-2011), when the power plant was set to work with full load. Features consist of hourly average ambient variables Temperature (T), Ambient Pressure (AP), Relative Humidity (RH) and Exhaust Vacuum (V) to predict the net hourly electrical energy output (EP) of the plant.\n",
        "\n",
        "**Attribute Information:**\n",
        "\n",
        "Features consist of hourly average ambient variables\n",
        "* Temperature (T) in the range 1.81°C and 37.11°C,\n",
        "* Ambient Pressure (AP) in the range 992.89-1033.30 milibar,\n",
        "* Relative Humidity (RH) in the range 25.56% to 100.16%\n",
        "* Exhaust Vacuum (V) in teh range 25.36-81.56 cm Hg\n",
        "* Net hourly electrical energy output (EP) 420.26-495.76 MW\n",
        "\n",
        "## **Part - 1: Data Preprocessing**"
      ],
      "metadata": {
        "id": "Vk3sIL8d-W3s"
      }
    },
    {
      "cell_type": "markdown",
      "source": [
        "### **Importing the dataset**"
      ],
      "metadata": {
        "id": "WAIOQ234-W3u"
      }
    },
    {
      "cell_type": "code",
      "source": [
        "ds = read.csv('/content/Power Plant Data.csv')\n",
        "head(ds)"
      ],
      "metadata": {
        "execution": {
          "iopub.status.busy": "2022-03-21T14:49:23.025755Z",
          "iopub.execute_input": "2022-03-21T14:49:23.027806Z",
          "iopub.status.idle": "2022-03-21T14:49:23.140690Z"
        },
        "trusted": true,
        "colab": {
          "base_uri": "https://localhost:8080/",
          "height": 286
        },
        "id": "BZ4TE-R2-W3v",
        "outputId": "6c202756-ea3f-4af5-e53a-3cf6df46e450"
      },
      "execution_count": 1,
      "outputs": [
        {
          "output_type": "display_data",
          "data": {
            "text/html": [
              "<table class=\"dataframe\">\n",
              "<caption>A data.frame: 6 × 5</caption>\n",
              "<thead>\n",
              "\t<tr><th></th><th scope=col>AT</th><th scope=col>V</th><th scope=col>AP</th><th scope=col>RH</th><th scope=col>PE</th></tr>\n",
              "\t<tr><th></th><th scope=col>&lt;dbl&gt;</th><th scope=col>&lt;dbl&gt;</th><th scope=col>&lt;dbl&gt;</th><th scope=col>&lt;dbl&gt;</th><th scope=col>&lt;dbl&gt;</th></tr>\n",
              "</thead>\n",
              "<tbody>\n",
              "\t<tr><th scope=row>1</th><td>14.96</td><td>41.76</td><td>1024.07</td><td>73.17</td><td>463.26</td></tr>\n",
              "\t<tr><th scope=row>2</th><td>25.18</td><td>62.96</td><td>1020.04</td><td>59.08</td><td>444.37</td></tr>\n",
              "\t<tr><th scope=row>3</th><td> 5.11</td><td>39.40</td><td>1012.16</td><td>92.14</td><td>488.56</td></tr>\n",
              "\t<tr><th scope=row>4</th><td>20.86</td><td>57.32</td><td>1010.24</td><td>76.64</td><td>446.48</td></tr>\n",
              "\t<tr><th scope=row>5</th><td>10.82</td><td>37.50</td><td>1009.23</td><td>96.62</td><td>473.90</td></tr>\n",
              "\t<tr><th scope=row>6</th><td>26.27</td><td>59.44</td><td>1012.23</td><td>58.77</td><td>443.67</td></tr>\n",
              "</tbody>\n",
              "</table>\n"
            ],
            "text/markdown": "\nA data.frame: 6 × 5\n\n| <!--/--> | AT &lt;dbl&gt; | V &lt;dbl&gt; | AP &lt;dbl&gt; | RH &lt;dbl&gt; | PE &lt;dbl&gt; |\n|---|---|---|---|---|---|\n| 1 | 14.96 | 41.76 | 1024.07 | 73.17 | 463.26 |\n| 2 | 25.18 | 62.96 | 1020.04 | 59.08 | 444.37 |\n| 3 |  5.11 | 39.40 | 1012.16 | 92.14 | 488.56 |\n| 4 | 20.86 | 57.32 | 1010.24 | 76.64 | 446.48 |\n| 5 | 10.82 | 37.50 | 1009.23 | 96.62 | 473.90 |\n| 6 | 26.27 | 59.44 | 1012.23 | 58.77 | 443.67 |\n\n",
            "text/latex": "A data.frame: 6 × 5\n\\begin{tabular}{r|lllll}\n  & AT & V & AP & RH & PE\\\\\n  & <dbl> & <dbl> & <dbl> & <dbl> & <dbl>\\\\\n\\hline\n\t1 & 14.96 & 41.76 & 1024.07 & 73.17 & 463.26\\\\\n\t2 & 25.18 & 62.96 & 1020.04 & 59.08 & 444.37\\\\\n\t3 &  5.11 & 39.40 & 1012.16 & 92.14 & 488.56\\\\\n\t4 & 20.86 & 57.32 & 1010.24 & 76.64 & 446.48\\\\\n\t5 & 10.82 & 37.50 & 1009.23 & 96.62 & 473.90\\\\\n\t6 & 26.27 & 59.44 & 1012.23 & 58.77 & 443.67\\\\\n\\end{tabular}\n",
            "text/plain": [
              "  AT    V     AP      RH    PE    \n",
              "1 14.96 41.76 1024.07 73.17 463.26\n",
              "2 25.18 62.96 1020.04 59.08 444.37\n",
              "3  5.11 39.40 1012.16 92.14 488.56\n",
              "4 20.86 57.32 1010.24 76.64 446.48\n",
              "5 10.82 37.50 1009.23 96.62 473.90\n",
              "6 26.27 59.44 1012.23 58.77 443.67"
            ]
          },
          "metadata": {}
        }
      ]
    },
    {
      "cell_type": "code",
      "source": [
        "summary(ds)"
      ],
      "metadata": {
        "execution": {
          "iopub.status.busy": "2022-03-21T14:49:23.144170Z",
          "iopub.execute_input": "2022-03-21T14:49:23.181330Z",
          "iopub.status.idle": "2022-03-21T14:49:23.206027Z"
        },
        "trusted": true,
        "colab": {
          "base_uri": "https://localhost:8080/",
          "height": 260
        },
        "id": "bokW5FzF-W3x",
        "outputId": "f0991abe-012f-4a30-e322-2bc7132d32cd"
      },
      "execution_count": 2,
      "outputs": [
        {
          "output_type": "display_data",
          "data": {
            "text/plain": [
              "       AT              V               AP               RH        \n",
              " Min.   : 1.81   Min.   :25.36   Min.   : 992.9   Min.   : 25.56  \n",
              " 1st Qu.:13.51   1st Qu.:41.74   1st Qu.:1009.1   1st Qu.: 63.33  \n",
              " Median :20.34   Median :52.08   Median :1012.9   Median : 74.97  \n",
              " Mean   :19.65   Mean   :54.31   Mean   :1013.3   Mean   : 73.31  \n",
              " 3rd Qu.:25.72   3rd Qu.:66.54   3rd Qu.:1017.3   3rd Qu.: 84.83  \n",
              " Max.   :37.11   Max.   :81.56   Max.   :1033.3   Max.   :100.16  \n",
              "       PE       \n",
              " Min.   :420.3  \n",
              " 1st Qu.:439.8  \n",
              " Median :451.6  \n",
              " Mean   :454.4  \n",
              " 3rd Qu.:468.4  \n",
              " Max.   :495.8  "
            ]
          },
          "metadata": {}
        }
      ]
    },
    {
      "cell_type": "code",
      "source": [
        "#find number of rows with missing values\n",
        "sum(!complete.cases(ds))"
      ],
      "metadata": {
        "execution": {
          "iopub.status.busy": "2022-03-21T14:49:23.209354Z",
          "iopub.execute_input": "2022-03-21T14:49:23.210818Z",
          "iopub.status.idle": "2022-03-21T14:49:23.227331Z"
        },
        "trusted": true,
        "colab": {
          "base_uri": "https://localhost:8080/",
          "height": 34
        },
        "id": "LPWIS7TW-W3y",
        "outputId": "5d12047d-b731-45ad-aabc-ef785783d7f6"
      },
      "execution_count": 3,
      "outputs": [
        {
          "output_type": "display_data",
          "data": {
            "text/html": [
              "0"
            ],
            "text/markdown": "0",
            "text/latex": "0",
            "text/plain": [
              "[1] 0"
            ]
          },
          "metadata": {}
        }
      ]
    },
    {
      "cell_type": "markdown",
      "source": [
        "### **Splitting the dataset into the Training set and Test set**"
      ],
      "metadata": {
        "id": "umZVek6H-W3z"
      }
    },
    {
      "cell_type": "code",
      "source": [
        "install.packages('caTools')\n",
        "library(caTools)\n",
        "set.seed(123)\n",
        "split = sample.split(ds$PE, SplitRatio = 4/5)\n",
        "head(split)"
      ],
      "metadata": {
        "execution": {
          "iopub.status.busy": "2022-03-21T14:49:23.229453Z",
          "iopub.execute_input": "2022-03-21T14:49:23.230729Z",
          "iopub.status.idle": "2022-03-21T14:49:23.275184Z"
        },
        "trusted": true,
        "colab": {
          "base_uri": "https://localhost:8080/",
          "height": 86
        },
        "id": "LIj5FD0C-W30",
        "outputId": "c8fe0635-b288-4354-bc8f-b1b278f31c25"
      },
      "execution_count": 4,
      "outputs": [
        {
          "output_type": "stream",
          "name": "stderr",
          "text": [
            "Installing package into ‘/usr/local/lib/R/site-library’\n",
            "(as ‘lib’ is unspecified)\n",
            "\n"
          ]
        },
        {
          "output_type": "display_data",
          "data": {
            "text/html": [
              "<style>\n",
              ".list-inline {list-style: none; margin:0; padding: 0}\n",
              ".list-inline>li {display: inline-block}\n",
              ".list-inline>li:not(:last-child)::after {content: \"\\00b7\"; padding: 0 .5ex}\n",
              "</style>\n",
              "<ol class=list-inline><li>TRUE</li><li>TRUE</li><li>TRUE</li><li>FALSE</li><li>FALSE</li><li>TRUE</li></ol>\n"
            ],
            "text/markdown": "1. TRUE\n2. TRUE\n3. TRUE\n4. FALSE\n5. FALSE\n6. TRUE\n\n\n",
            "text/latex": "\\begin{enumerate*}\n\\item TRUE\n\\item TRUE\n\\item TRUE\n\\item FALSE\n\\item FALSE\n\\item TRUE\n\\end{enumerate*}\n",
            "text/plain": [
              "[1]  TRUE  TRUE  TRUE FALSE FALSE  TRUE"
            ]
          },
          "metadata": {}
        }
      ]
    },
    {
      "cell_type": "code",
      "source": [
        "train_set = subset(ds, split == TRUE)\n",
        "test_set = subset(ds, split == FALSE)\n",
        "print(head(train_set,5))\n",
        "\n",
        "print(head(test_set,3))"
      ],
      "metadata": {
        "execution": {
          "iopub.status.busy": "2022-03-21T14:49:23.278393Z",
          "iopub.execute_input": "2022-03-21T14:49:23.279850Z",
          "iopub.status.idle": "2022-03-21T14:49:23.307011Z"
        },
        "trusted": true,
        "colab": {
          "base_uri": "https://localhost:8080/"
        },
        "id": "qu9GtZCr-W31",
        "outputId": "08e36bb7-cb10-408c-f1c5-e4b5a7a1b26b"
      },
      "execution_count": 5,
      "outputs": [
        {
          "output_type": "stream",
          "name": "stdout",
          "text": [
            "     AT     V      AP    RH     PE\n",
            "1 14.96 41.76 1024.07 73.17 463.26\n",
            "2 25.18 62.96 1020.04 59.08 444.37\n",
            "3  5.11 39.40 1012.16 92.14 488.56\n",
            "6 26.27 59.44 1012.23 58.77 443.67\n",
            "7 15.89 43.96 1014.02 75.24 467.35\n",
            "     AT     V      AP    RH     PE\n",
            "4 20.86 57.32 1010.24 76.64 446.48\n",
            "5 10.82 37.50 1009.23 96.62 473.90\n",
            "8  9.48 44.71 1019.12 66.43 478.42\n"
          ]
        }
      ]
    },
    {
      "cell_type": "markdown",
      "source": [
        "## **Part 2 - Building & Training the ANN**"
      ],
      "metadata": {
        "id": "h-Z9Hwge-W33"
      }
    },
    {
      "cell_type": "code",
      "source": [
        "install.packages(\"h2o\")\n",
        "library(h2o)\n",
        "h2o.init(nthreads = -1)\n",
        "model = h2o.deeplearning(y = 'PE',\n",
        "                         training_frame = as.h2o(train_set),\n",
        "                         activation = 'Rectifier',\n",
        "                         hidden = c(5,5),\n",
        "                         epochs = 100,\n",
        "                         stopping_metric=\"MSE\", ## could be \"misclassification\",\"logloss\",\"r2\"\n",
        "                         train_samples_per_iteration = -2)"
      ],
      "metadata": {
        "execution": {
          "iopub.status.busy": "2022-03-21T14:49:23.310412Z",
          "iopub.execute_input": "2022-03-21T14:49:23.311795Z",
          "iopub.status.idle": "2022-03-21T14:50:19.394267Z"
        },
        "trusted": true,
        "colab": {
          "base_uri": "https://localhost:8080/"
        },
        "id": "kOoRP-z--W33",
        "outputId": "1181b077-3560-493d-db56-7437b4814d24"
      },
      "execution_count": 6,
      "outputs": [
        {
          "output_type": "stream",
          "name": "stderr",
          "text": [
            "Installing package into ‘/usr/local/lib/R/site-library’\n",
            "(as ‘lib’ is unspecified)\n",
            "\n",
            "also installing the dependency ‘RCurl’\n",
            "\n",
            "\n",
            "\n",
            "----------------------------------------------------------------------\n",
            "\n",
            "Your next step is to start H2O:\n",
            "    > h2o.init()\n",
            "\n",
            "For H2O package documentation, ask for help:\n",
            "    > ??h2o\n",
            "\n",
            "After starting H2O, you can use the Web UI at http://localhost:54321\n",
            "For more information visit https://docs.h2o.ai\n",
            "\n",
            "----------------------------------------------------------------------\n",
            "\n",
            "\n",
            "\n",
            "Attaching package: ‘h2o’\n",
            "\n",
            "\n",
            "The following objects are masked from ‘package:stats’:\n",
            "\n",
            "    cor, sd, var\n",
            "\n",
            "\n",
            "The following objects are masked from ‘package:base’:\n",
            "\n",
            "    &&, %*%, %in%, ||, apply, as.factor, as.numeric, colnames,\n",
            "    colnames<-, ifelse, is.character, is.factor, is.numeric, log,\n",
            "    log10, log1p, log2, round, signif, trunc\n",
            "\n",
            "\n"
          ]
        },
        {
          "output_type": "stream",
          "name": "stdout",
          "text": [
            "\n",
            "H2O is not running yet, starting it now...\n",
            "\n",
            "Note:  In case of errors look at the following log files:\n",
            "    /tmp/RtmpbrGEff/file1257ca93818/h2o_UnknownUser_started_from_r.out\n",
            "    /tmp/RtmpbrGEff/file1253ecb9e8f/h2o_UnknownUser_started_from_r.err\n",
            "\n",
            "\n",
            "Starting H2O JVM and connecting: .... Connection successful!\n",
            "\n",
            "R is connected to the H2O cluster: \n",
            "    H2O cluster uptime:         2 seconds 764 milliseconds \n",
            "    H2O cluster timezone:       Etc/UTC \n",
            "    H2O data parsing timezone:  UTC \n",
            "    H2O cluster version:        3.36.0.3 \n",
            "    H2O cluster version age:    1 month and 4 days  \n",
            "    H2O cluster name:           H2O_started_from_R_root_ppf172 \n",
            "    H2O cluster total nodes:    1 \n",
            "    H2O cluster total memory:   3.17 GB \n",
            "    H2O cluster total cores:    2 \n",
            "    H2O cluster allowed cores:  2 \n",
            "    H2O cluster healthy:        TRUE \n",
            "    H2O Connection ip:          localhost \n",
            "    H2O Connection port:        54321 \n",
            "    H2O Connection proxy:       NA \n",
            "    H2O Internal Security:      FALSE \n",
            "    R Version:                  R version 4.1.2 (2021-11-01) \n",
            "\n",
            "  |======================================================================| 100%\n",
            "  |======================================================================| 100%\n"
          ]
        }
      ]
    },
    {
      "cell_type": "markdown",
      "source": [
        "## **Part 3 - Making the predictions and evaluating the model**"
      ],
      "metadata": {
        "id": "zs98v8Ba-W34"
      }
    },
    {
      "cell_type": "markdown",
      "source": [
        "### **Predicting the Test set results**"
      ],
      "metadata": {
        "id": "YlLJAGbq-W35"
      }
    },
    {
      "cell_type": "code",
      "source": [
        "y_pred = h2o.predict(model, newdata = as.h2o(test_set[-5]))\n",
        "\n",
        "y_pred = as.data.frame(y_pred)\n"
      ],
      "metadata": {
        "execution": {
          "iopub.status.busy": "2022-03-21T14:50:19.397803Z",
          "iopub.execute_input": "2022-03-21T14:50:19.400512Z",
          "iopub.status.idle": "2022-03-21T14:50:19.878578Z"
        },
        "trusted": true,
        "colab": {
          "base_uri": "https://localhost:8080/"
        },
        "id": "qULXP93Z-W35",
        "outputId": "d073a156-19c0-45d9-b416-4343621d8d20"
      },
      "execution_count": 7,
      "outputs": [
        {
          "output_type": "stream",
          "name": "stdout",
          "text": [
            "  |======================================================================| 100%\n",
            "  |======================================================================| 100%\n"
          ]
        }
      ]
    },
    {
      "cell_type": "code",
      "source": [
        "summary(model)"
      ],
      "metadata": {
        "execution": {
          "iopub.status.busy": "2022-03-21T14:50:19.881742Z",
          "iopub.execute_input": "2022-03-21T14:50:19.883481Z",
          "iopub.status.idle": "2022-03-21T14:50:19.917172Z"
        },
        "trusted": true,
        "colab": {
          "base_uri": "https://localhost:8080/"
        },
        "id": "ILft7pEY-W36",
        "outputId": "c7278e46-6b39-465d-b75d-baf929d711c3"
      },
      "execution_count": 8,
      "outputs": [
        {
          "output_type": "stream",
          "name": "stdout",
          "text": [
            "Model Details:\n",
            "==============\n",
            "\n",
            "H2ORegressionModel: deeplearning\n",
            "Model Key:  DeepLearning_model_R_1647874682704_1 \n",
            "Status of Neuron Layers: predicting PE, regression, gaussian distribution, Quadratic loss, 61 weights/biases, 4.4 KB, 765,400 training samples, mini-batch size 1\n",
            "  layer units      type dropout       l1       l2 mean_rate rate_rms momentum\n",
            "1     1     4     Input  0.00 %       NA       NA        NA       NA       NA\n",
            "2     2     5 Rectifier  0.00 % 0.000000 0.000000  0.001753 0.000660 0.000000\n",
            "3     3     5 Rectifier  0.00 % 0.000000 0.000000  0.016275 0.044116 0.000000\n",
            "4     4     1    Linear      NA 0.000000 0.000000  0.001900 0.000975 0.000000\n",
            "  mean_weight weight_rms mean_bias bias_rms\n",
            "1          NA         NA        NA       NA\n",
            "2   -0.133833   0.401025  0.514058 0.586826\n",
            "3   -0.200495   0.803140  0.832801 0.288028\n",
            "4   -0.203933   0.584445  0.103761 0.000000\n",
            "\n",
            "H2ORegressionMetrics: deeplearning\n",
            "** Reported on training data. **\n",
            "** Metrics reported on full training frame **\n",
            "\n",
            "MSE:  17.12611\n",
            "RMSE:  4.13837\n",
            "MAE:  3.163315\n",
            "RMSLE:  0.009084062\n",
            "Mean Residual Deviance :  17.12611\n",
            "\n",
            "\n",
            "\n",
            "\n",
            "\n",
            "Scoring History: \n",
            "            timestamp   duration training_speed    epochs iterations\n",
            "1 2022-03-21 14:58:10  0.000 sec             NA   0.00000          0\n",
            "2 2022-03-21 14:58:13  2.569 sec 142798 obs/sec  10.00000          1\n",
            "3 2022-03-21 14:58:14  3.927 sec 414401 obs/sec 100.00000         10\n",
            "        samples training_rmse training_deviance training_mae training_r2\n",
            "1      0.000000            NA                NA           NA          NA\n",
            "2  76540.000000       4.28916          18.39688      3.30758     0.93708\n",
            "3 765400.000000       4.13837          17.12611      3.16331     0.94143\n",
            "\n",
            "Variable Importances: (Extract with `h2o.varimp`) \n",
            "=================================================\n",
            "\n",
            "Variable Importances: \n",
            "  variable relative_importance scaled_importance percentage\n",
            "1        V            1.000000          1.000000   0.417372\n",
            "2       AT            0.894379          0.894379   0.373289\n",
            "3       RH            0.264765          0.264765   0.110506\n",
            "4       AP            0.236798          0.236798   0.098833\n"
          ]
        }
      ]
    },
    {
      "cell_type": "code",
      "source": [
        "y_test = as.data.frame(test_set$PE)"
      ],
      "metadata": {
        "execution": {
          "iopub.status.busy": "2022-03-21T14:50:19.920547Z",
          "iopub.execute_input": "2022-03-21T14:50:19.921999Z",
          "iopub.status.idle": "2022-03-21T14:50:19.934991Z"
        },
        "trusted": true,
        "id": "5RQxkBpA-W36"
      },
      "execution_count": 9,
      "outputs": []
    },
    {
      "cell_type": "markdown",
      "source": [
        "### **Metrics**"
      ],
      "metadata": {
        "id": "RMQa6Hom-W3-"
      }
    },
    {
      "cell_type": "code",
      "source": [
        "d = y_pred - y_test\n",
        "head(d)"
      ],
      "metadata": {
        "execution": {
          "iopub.status.busy": "2022-03-21T14:50:19.937765Z",
          "iopub.execute_input": "2022-03-21T14:50:19.939378Z",
          "iopub.status.idle": "2022-03-21T14:50:19.964366Z"
        },
        "trusted": true,
        "colab": {
          "base_uri": "https://localhost:8080/",
          "height": 304
        },
        "id": "A8EucotE-W3_",
        "outputId": "347ee9db-3af1-4121-d478-3d992ab9ae73"
      },
      "execution_count": 10,
      "outputs": [
        {
          "output_type": "display_data",
          "data": {
            "text/html": [
              "<table class=\"dataframe\">\n",
              "<caption>A data.frame: 6 × 1</caption>\n",
              "<thead>\n",
              "\t<tr><th></th><th scope=col>predict</th></tr>\n",
              "\t<tr><th></th><th scope=col>&lt;dbl&gt;</th></tr>\n",
              "</thead>\n",
              "<tbody>\n",
              "\t<tr><th scope=row>1</th><td> 1.32983971</td></tr>\n",
              "\t<tr><th scope=row>2</th><td>-0.08426849</td></tr>\n",
              "\t<tr><th scope=row>3</th><td> 1.64182828</td></tr>\n",
              "\t<tr><th scope=row>4</th><td> 4.85579652</td></tr>\n",
              "\t<tr><th scope=row>5</th><td>-3.95473218</td></tr>\n",
              "\t<tr><th scope=row>6</th><td> 6.07932437</td></tr>\n",
              "</tbody>\n",
              "</table>\n"
            ],
            "text/markdown": "\nA data.frame: 6 × 1\n\n| <!--/--> | predict &lt;dbl&gt; |\n|---|---|\n| 1 |  1.32983971 |\n| 2 | -0.08426849 |\n| 3 |  1.64182828 |\n| 4 |  4.85579652 |\n| 5 | -3.95473218 |\n| 6 |  6.07932437 |\n\n",
            "text/latex": "A data.frame: 6 × 1\n\\begin{tabular}{r|l}\n  & predict\\\\\n  & <dbl>\\\\\n\\hline\n\t1 &  1.32983971\\\\\n\t2 & -0.08426849\\\\\n\t3 &  1.64182828\\\\\n\t4 &  4.85579652\\\\\n\t5 & -3.95473218\\\\\n\t6 &  6.07932437\\\\\n\\end{tabular}\n",
            "text/plain": [
              "  predict    \n",
              "1  1.32983971\n",
              "2 -0.08426849\n",
              "3  1.64182828\n",
              "4  4.85579652\n",
              "5 -3.95473218\n",
              "6  6.07932437"
            ]
          },
          "metadata": {}
        }
      ]
    },
    {
      "cell_type": "code",
      "source": [
        "d = as.double(unlist(d))\n",
        "d"
      ],
      "metadata": {
        "execution": {
          "iopub.status.busy": "2022-03-21T14:50:19.967553Z",
          "iopub.execute_input": "2022-03-21T14:50:19.968996Z",
          "iopub.status.idle": "2022-03-21T14:50:20.002816Z"
        },
        "trusted": true,
        "colab": {
          "base_uri": "https://localhost:8080/",
          "height": 798
        },
        "id": "D_xplc_D-W3_",
        "outputId": "e14423f1-ce66-4a36-ef59-da5938a2b57e"
      },
      "execution_count": 11,
      "outputs": [
        {
          "output_type": "display_data",
          "data": {
            "text/html": [
              "<style>\n",
              ".list-inline {list-style: none; margin:0; padding: 0}\n",
              ".list-inline>li {display: inline-block}\n",
              ".list-inline>li:not(:last-child)::after {content: \"\\00b7\"; padding: 0 .5ex}\n",
              "</style>\n",
              "<ol class=list-inline><li>1.32983971103954</li><li>-0.0842684949074055</li><li>1.6418282839806</li><li>4.85579652364396</li><li>-3.95473217994066</li><li>6.07932437095695</li><li>-8.28764154670307</li><li>-1.76235111238134</li><li>2.80300789927395</li><li>2.79382809288984</li><li>-4.35057665594206</li><li>5.03182854834535</li><li>2.56381993223243</li><li>-5.95053920737496</li><li>2.66919091817573</li><li>-4.37382014038684</li><li>7.38099211573865</li><li>-2.77167007592237</li><li>2.75409247552341</li><li>-6.3173427496381</li><li>-3.9554027169512</li><li>3.14084385556316</li><li>0.0704346859498628</li><li>-1.6503387931071</li><li>-2.75869537272689</li><li>2.72494010475805</li><li>5.78608850225072</li><li>0.974550645999955</li><li>-3.85170153287692</li><li>0.460335169179871</li><li>2.74683211099961</li><li>1.63599520841387</li><li>0.248033890721217</li><li>1.50002583168447</li><li>0.137010925240986</li><li>-2.78798165522483</li><li>0.359860914560386</li><li>5.62997325584365</li><li>1.01875380301141</li><li>4.5933363674261</li><li>4.26293430321698</li><li>0.15082528701214</li><li>1.44055102401796</li><li>-2.28622770426557</li><li>-1.26938041728931</li><li>-7.69301627031524</li><li>1.67416001077555</li><li>-0.918281774261118</li><li>-3.91161767809194</li><li>-0.231392223066337</li><li>4.76817269124325</li><li>-1.92871360079533</li><li>3.35442989275629</li><li>-0.0868712392997963</li><li>-2.67723324474946</li><li>1.00974820740117</li><li>-3.29565481356201</li><li>-5.05850296181023</li><li>-8.16379118816275</li><li>-1.52387232756814</li><li>0.540567199399902</li><li>-0.794069974779632</li><li>-1.73839671152984</li><li>-5.03830950224227</li><li>3.54762911947904</li><li>-3.3204908619374</li><li>-3.16598298548899</li><li>6.21629777421845</li><li>10.5507862858305</li><li>9.7647897801354</li><li>-0.18836903112441</li><li>0.763447111097094</li><li>-0.995934863635966</li><li>-1.23221180699579</li><li>2.02828884498905</li><li>0.839667734058139</li><li>-4.82091910765183</li><li>-4.52193266923632</li><li>-2.49865396913782</li><li>-2.96533854225464</li><li>-3.06762717747239</li><li>0.831607294414255</li><li>-5.36676230240283</li><li>2.02221663328737</li><li>-2.79560799136163</li><li>-3.4775428880252</li><li>-4.76266238123623</li><li>2.05031814051728</li><li>0.334536611488147</li><li>1.96563026653587</li><li>-4.01780522419284</li><li>7.14198506472701</li><li>-0.698719891592134</li><li>8.16253529731262</li><li>3.48185922216129</li><li>-0.816627770630532</li><li>1.77372746972145</li><li>2.98185504731987</li><li>-3.87888646922079</li><li>-3.06726173212127</li><li>6.06386331820858</li><li>-3.77063746507207</li><li>2.07823753609415</li><li>-0.495168699399755</li><li>1.90218242595336</li><li>2.48072033358272</li><li>1.70707540579428</li><li>-11.2867730096609</li><li>5.44405564276536</li><li>0.468027402680434</li><li>-2.14078073884883</li><li>-0.408229112913261</li><li>-5.4536077718376</li><li>-9.83750508393143</li><li>-3.91738804526619</li><li>-2.8707717761605</li><li>-0.188615648734299</li><li>6.31376638832933</li><li>-4.10606679764959</li><li>-2.24229022522167</li><li>5.77496172536081</li><li>-4.64121234579193</li><li>2.73008252152709</li><li>3.04709488839859</li><li>6.65809412219016</li><li>-1.35296898699039</li><li>2.4678141004469</li><li>-0.427007464264989</li><li>-5.29607852184631</li><li>-2.13959546511796</li><li>-2.92178512329639</li><li>-2.6928630952101</li><li>-3.83929696211544</li><li>11.5145612354106</li><li>-7.06251705643319</li><li>-5.70533865634633</li><li>-7.78135450167809</li><li>-3.81369799568688</li><li>1.84606922355647</li><li>0.799747877632797</li><li>-0.529767489398239</li><li>-2.71751531762357</li><li>2.71201487269815</li><li>3.85338701254489</li><li>-0.990280831763187</li><li>2.13750974764093</li><li>-4.90084140319135</li><li>-1.10653868434866</li><li>3.596438260681</li><li>-7.55907228306108</li><li>-7.31198426913676</li><li>-1.10308223243538</li><li>-4.93592371551523</li><li>0.248752319522907</li><li>-4.26691331887878</li><li>-0.533782128162102</li><li>-1.3758075804576</li><li>4.6650457095796</li><li>-1.21400946425439</li><li>4.04399874970244</li><li>1.72005869439874</li><li>1.40521783424816</li><li>-1.43547508777522</li><li>1.72749388253226</li><li>-2.35053655172771</li><li>-2.46902149870039</li><li>-2.11408364149406</li><li>3.88270143532446</li><li>1.1806742745008</li><li>2.68466566556475</li><li>-5.31206655198571</li><li>-3.05170193541346</li><li>5.24804516379203</li><li>3.12347839523272</li><li>0.977437085273152</li><li>-0.486208612120777</li><li>0.237420566775768</li><li>-1.76725113570728</li><li>7.12659269866919</li><li>-2.92154411181832</li><li>0.333200944646194</li><li>3.50618944074472</li><li>-4.7886708485301</li><li>-2.71335452146303</li><li>0.929407869943361</li><li>3.7557671695389</li><li>-11.9850827845941</li><li>2.5092720427881</li><li>1.23710869433268</li><li>-1.88930479692414</li><li>-1.12302018075417</li><li>0.548614195074435</li><li>-9.42952348226407</li><li>-2.86883204927727</li><li>6.6000559475446</li><li>6.32504708840816</li><li>-0.890849036378199</li><li>-2.56890597251027</li><li>3.19394155979859</li><li>1.17660844474807</li><li>⋯</li><li>-5.44218055540682</li><li>0.339350848563697</li><li>-5.29798673851741</li><li>-4.48665782819643</li><li>0.262117883849328</li><li>-2.81921687670547</li><li>6.60213778445802</li><li>-1.92425564454368</li><li>-1.00774788565786</li><li>-1.44435005829354</li><li>-3.81599258687453</li><li>-9.31752920154059</li><li>5.41754830883758</li><li>5.90755728526506</li><li>5.90470346360428</li><li>-0.535230544544447</li><li>6.43183392222261</li><li>0.751290367846195</li><li>1.55630555637629</li><li>-6.05586138083441</li><li>0.00107426030535862</li><li>-4.04468999650322</li><li>5.26287817323623</li><li>2.74525612993716</li><li>1.92993508120486</li><li>0.633990096199284</li><li>1.42710513619573</li><li>-3.06664830960506</li><li>0.229587910842099</li><li>1.96006130433608</li><li>2.20032835406357</li><li>1.61024581361818</li><li>-3.11193625339314</li><li>-6.22681117354688</li><li>-2.56313123791921</li><li>3.50634947182795</li><li>3.84585793915653</li><li>-3.74479446498555</li><li>1.77629340752651</li><li>-2.43199812591178</li><li>0.982620489465376</li><li>-1.96807917042639</li><li>-0.854557624561096</li><li>0.857889958093836</li><li>1.43205611554953</li><li>-3.10926287170912</li><li>-10.6313234421905</li><li>-1.54274761323819</li><li>-3.0148192776133</li><li>0.763243884444705</li><li>6.01266682864321</li><li>-2.35440339766694</li><li>2.80392788679904</li><li>-3.31439581704853</li><li>8.03992351357795</li><li>-0.3055646300229</li><li>3.22825460605918</li><li>-3.43094688213085</li><li>-2.24310225092972</li><li>-5.24157994056264</li><li>1.74758450134266</li><li>-3.89801343926149</li><li>2.90531341633834</li><li>2.01142395767744</li><li>4.10603015567654</li><li>6.08533173623994</li><li>-0.704876864128096</li><li>-0.83967961904483</li><li>-5.66966951758474</li><li>0.587764346925837</li><li>0.610946417502475</li><li>-0.086596447724844</li><li>-5.82282078588014</li><li>-3.28782988554235</li><li>-3.28568905727292</li><li>3.70172760535155</li><li>-10.1822846728599</li><li>2.37260527160009</li><li>3.26628376733089</li><li>-0.120963784076821</li><li>-5.6718660725308</li><li>6.1398005430666</li><li>-5.95462160548425</li><li>-4.2887285709254</li><li>1.34007309969809</li><li>-6.45475334412038</li><li>-4.49864308963197</li><li>-9.26537660370582</li><li>-3.97694130177479</li><li>-0.562999365904602</li><li>-2.26466265964223</li><li>11.7869188490891</li><li>1.49864002826689</li><li>4.3941157521495</li><li>-0.141049585128258</li><li>8.44010793409279</li><li>1.35021725956523</li><li>-2.00364159549423</li><li>-3.58640364199726</li><li>4.49962030775174</li><li>1.52741108013049</li><li>-1.88826880995248</li><li>3.25082830334946</li><li>-2.62714041846363</li><li>-2.28331328524888</li><li>-1.94844078427826</li><li>-0.345835866331583</li><li>2.95886140833716</li><li>1.60304031059354</li><li>-4.53760821712098</li><li>-1.82911923749691</li><li>4.22911184192958</li><li>2.14901715085261</li><li>0.930442084771926</li><li>-5.91965790353134</li><li>5.09722993360037</li><li>2.87041056026385</li><li>-9.95787617231861</li><li>0.221200390580464</li><li>-2.74019890175134</li><li>-0.539357676144334</li><li>-5.67701923698093</li><li>-4.44026362284416</li><li>6.98206605959166</li><li>-7.44138611063914</li><li>-8.25328746759612</li><li>3.08697912188472</li><li>-1.66082585444337</li><li>-5.56889408511756</li><li>0.80320365929532</li><li>0.155151335517473</li><li>-5.87878063820239</li><li>1.30841354427724</li><li>0.568261819966608</li><li>0.0876718935617191</li><li>2.08988262748738</li><li>0.645076830526762</li><li>1.73547897160029</li><li>3.96703201868121</li><li>-8.36038707983562</li><li>1.34286046150936</li><li>-0.260679377000201</li><li>-6.74743575008762</li><li>-0.84171146620929</li><li>-4.32935652183204</li><li>0.410843177754941</li><li>-5.0689976216841</li><li>-3.25044000296612</li><li>1.00931684038613</li><li>-7.14295679367956</li><li>-3.93549790801137</li><li>-5.13551464701141</li><li>1.22725691935773</li><li>0.730675886971937</li><li>0.22894125041563</li><li>9.04479136833447</li><li>1.85060505414265</li><li>0.30754127400013</li><li>-6.55547848204588</li><li>-1.17653852083583</li><li>-5.77841401697054</li><li>8.88384430969438</li><li>3.22906062108149</li><li>2.57378900212535</li><li>-2.39612069947077</li><li>-2.20961562531437</li><li>4.09023594808582</li><li>5.52656111178686</li><li>-2.7684548891848</li><li>2.21085699335833</li><li>-6.97381227349194</li><li>1.94411608261464</li><li>0.81215895878023</li><li>3.91046175865625</li><li>7.74107802709449</li><li>1.74685536905235</li><li>8.46294468642265</li><li>1.89296204684382</li><li>0.347362374090039</li><li>6.10600165408079</li><li>3.37520282298647</li><li>-2.85049570421751</li><li>-5.59921816303597</li><li>2.12017353945902</li><li>-10.5988697107839</li><li>4.41531147582219</li><li>-6.79677589260649</li><li>-2.48425183924894</li><li>0.65884684360077</li><li>4.12212341158721</li><li>5.13221256197073</li><li>-2.84044256698127</li><li>4.34860000277899</li><li>-1.68730615673564</li><li>1.72980228664068</li><li>1.64099993568971</li><li>-2.2717622747428</li><li>0.253241585376372</li><li>-1.76869543727474</li><li>5.06668190817084</li></ol>\n"
            ],
            "text/markdown": "1. 1.32983971103954\n2. -0.0842684949074055\n3. 1.6418282839806\n4. 4.85579652364396\n5. -3.95473217994066\n6. 6.07932437095695\n7. -8.28764154670307\n8. -1.76235111238134\n9. 2.80300789927395\n10. 2.79382809288984\n11. -4.35057665594206\n12. 5.03182854834535\n13. 2.56381993223243\n14. -5.95053920737496\n15. 2.66919091817573\n16. -4.37382014038684\n17. 7.38099211573865\n18. -2.77167007592237\n19. 2.75409247552341\n20. -6.3173427496381\n21. -3.9554027169512\n22. 3.14084385556316\n23. 0.0704346859498628\n24. -1.6503387931071\n25. -2.75869537272689\n26. 2.72494010475805\n27. 5.78608850225072\n28. 0.974550645999955\n29. -3.85170153287692\n30. 0.460335169179871\n31. 2.74683211099961\n32. 1.63599520841387\n33. 0.248033890721217\n34. 1.50002583168447\n35. 0.137010925240986\n36. -2.78798165522483\n37. 0.359860914560386\n38. 5.62997325584365\n39. 1.01875380301141\n40. 4.5933363674261\n41. 4.26293430321698\n42. 0.15082528701214\n43. 1.44055102401796\n44. -2.28622770426557\n45. -1.26938041728931\n46. -7.69301627031524\n47. 1.67416001077555\n48. -0.918281774261118\n49. -3.91161767809194\n50. -0.231392223066337\n51. 4.76817269124325\n52. -1.92871360079533\n53. 3.35442989275629\n54. -0.0868712392997963\n55. -2.67723324474946\n56. 1.00974820740117\n57. -3.29565481356201\n58. -5.05850296181023\n59. -8.16379118816275\n60. -1.52387232756814\n61. 0.540567199399902\n62. -0.794069974779632\n63. -1.73839671152984\n64. -5.03830950224227\n65. 3.54762911947904\n66. -3.3204908619374\n67. -3.16598298548899\n68. 6.21629777421845\n69. 10.5507862858305\n70. 9.7647897801354\n71. -0.18836903112441\n72. 0.763447111097094\n73. -0.995934863635966\n74. -1.23221180699579\n75. 2.02828884498905\n76. 0.839667734058139\n77. -4.82091910765183\n78. -4.52193266923632\n79. -2.49865396913782\n80. -2.96533854225464\n81. -3.06762717747239\n82. 0.831607294414255\n83. -5.36676230240283\n84. 2.02221663328737\n85. -2.79560799136163\n86. -3.4775428880252\n87. -4.76266238123623\n88. 2.05031814051728\n89. 0.334536611488147\n90. 1.96563026653587\n91. -4.01780522419284\n92. 7.14198506472701\n93. -0.698719891592134\n94. 8.16253529731262\n95. 3.48185922216129\n96. -0.816627770630532\n97. 1.77372746972145\n98. 2.98185504731987\n99. -3.87888646922079\n100. -3.06726173212127\n101. 6.06386331820858\n102. -3.77063746507207\n103. 2.07823753609415\n104. -0.495168699399755\n105. 1.90218242595336\n106. 2.48072033358272\n107. 1.70707540579428\n108. -11.2867730096609\n109. 5.44405564276536\n110. 0.468027402680434\n111. -2.14078073884883\n112. -0.408229112913261\n113. -5.4536077718376\n114. -9.83750508393143\n115. -3.91738804526619\n116. -2.8707717761605\n117. -0.188615648734299\n118. 6.31376638832933\n119. -4.10606679764959\n120. -2.24229022522167\n121. 5.77496172536081\n122. -4.64121234579193\n123. 2.73008252152709\n124. 3.04709488839859\n125. 6.65809412219016\n126. -1.35296898699039\n127. 2.4678141004469\n128. -0.427007464264989\n129. -5.29607852184631\n130. -2.13959546511796\n131. -2.92178512329639\n132. -2.6928630952101\n133. -3.83929696211544\n134. 11.5145612354106\n135. -7.06251705643319\n136. -5.70533865634633\n137. -7.78135450167809\n138. -3.81369799568688\n139. 1.84606922355647\n140. 0.799747877632797\n141. -0.529767489398239\n142. -2.71751531762357\n143. 2.71201487269815\n144. 3.85338701254489\n145. -0.990280831763187\n146. 2.13750974764093\n147. -4.90084140319135\n148. -1.10653868434866\n149. 3.596438260681\n150. -7.55907228306108\n151. -7.31198426913676\n152. -1.10308223243538\n153. -4.93592371551523\n154. 0.248752319522907\n155. -4.26691331887878\n156. -0.533782128162102\n157. -1.3758075804576\n158. 4.6650457095796\n159. -1.21400946425439\n160. 4.04399874970244\n161. 1.72005869439874\n162. 1.40521783424816\n163. -1.43547508777522\n164. 1.72749388253226\n165. -2.35053655172771\n166. -2.46902149870039\n167. -2.11408364149406\n168. 3.88270143532446\n169. 1.1806742745008\n170. 2.68466566556475\n171. -5.31206655198571\n172. -3.05170193541346\n173. 5.24804516379203\n174. 3.12347839523272\n175. 0.977437085273152\n176. -0.486208612120777\n177. 0.237420566775768\n178. -1.76725113570728\n179. 7.12659269866919\n180. -2.92154411181832\n181. 0.333200944646194\n182. 3.50618944074472\n183. -4.7886708485301\n184. -2.71335452146303\n185. 0.929407869943361\n186. 3.7557671695389\n187. -11.9850827845941\n188. 2.5092720427881\n189. 1.23710869433268\n190. -1.88930479692414\n191. -1.12302018075417\n192. 0.548614195074435\n193. -9.42952348226407\n194. -2.86883204927727\n195. 6.6000559475446\n196. 6.32504708840816\n197. -0.890849036378199\n198. -2.56890597251027\n199. 3.19394155979859\n200. 1.17660844474807\n201. ⋯\n202. -5.44218055540682\n203. 0.339350848563697\n204. -5.29798673851741\n205. -4.48665782819643\n206. 0.262117883849328\n207. -2.81921687670547\n208. 6.60213778445802\n209. -1.92425564454368\n210. -1.00774788565786\n211. -1.44435005829354\n212. -3.81599258687453\n213. -9.31752920154059\n214. 5.41754830883758\n215. 5.90755728526506\n216. 5.90470346360428\n217. -0.535230544544447\n218. 6.43183392222261\n219. 0.751290367846195\n220. 1.55630555637629\n221. -6.05586138083441\n222. 0.00107426030535862\n223. -4.04468999650322\n224. 5.26287817323623\n225. 2.74525612993716\n226. 1.92993508120486\n227. 0.633990096199284\n228. 1.42710513619573\n229. -3.06664830960506\n230. 0.229587910842099\n231. 1.96006130433608\n232. 2.20032835406357\n233. 1.61024581361818\n234. -3.11193625339314\n235. -6.22681117354688\n236. -2.56313123791921\n237. 3.50634947182795\n238. 3.84585793915653\n239. -3.74479446498555\n240. 1.77629340752651\n241. -2.43199812591178\n242. 0.982620489465376\n243. -1.96807917042639\n244. -0.854557624561096\n245. 0.857889958093836\n246. 1.43205611554953\n247. -3.10926287170912\n248. -10.6313234421905\n249. -1.54274761323819\n250. -3.0148192776133\n251. 0.763243884444705\n252. 6.01266682864321\n253. -2.35440339766694\n254. 2.80392788679904\n255. -3.31439581704853\n256. 8.03992351357795\n257. -0.3055646300229\n258. 3.22825460605918\n259. -3.43094688213085\n260. -2.24310225092972\n261. -5.24157994056264\n262. 1.74758450134266\n263. -3.89801343926149\n264. 2.90531341633834\n265. 2.01142395767744\n266. 4.10603015567654\n267. 6.08533173623994\n268. -0.704876864128096\n269. -0.83967961904483\n270. -5.66966951758474\n271. 0.587764346925837\n272. 0.610946417502475\n273. -0.086596447724844\n274. -5.82282078588014\n275. -3.28782988554235\n276. -3.28568905727292\n277. 3.70172760535155\n278. -10.1822846728599\n279. 2.37260527160009\n280. 3.26628376733089\n281. -0.120963784076821\n282. -5.6718660725308\n283. 6.1398005430666\n284. -5.95462160548425\n285. -4.2887285709254\n286. 1.34007309969809\n287. -6.45475334412038\n288. -4.49864308963197\n289. -9.26537660370582\n290. -3.97694130177479\n291. -0.562999365904602\n292. -2.26466265964223\n293. 11.7869188490891\n294. 1.49864002826689\n295. 4.3941157521495\n296. -0.141049585128258\n297. 8.44010793409279\n298. 1.35021725956523\n299. -2.00364159549423\n300. -3.58640364199726\n301. 4.49962030775174\n302. 1.52741108013049\n303. -1.88826880995248\n304. 3.25082830334946\n305. -2.62714041846363\n306. -2.28331328524888\n307. -1.94844078427826\n308. -0.345835866331583\n309. 2.95886140833716\n310. 1.60304031059354\n311. -4.53760821712098\n312. -1.82911923749691\n313. 4.22911184192958\n314. 2.14901715085261\n315. 0.930442084771926\n316. -5.91965790353134\n317. 5.09722993360037\n318. 2.87041056026385\n319. -9.95787617231861\n320. 0.221200390580464\n321. -2.74019890175134\n322. -0.539357676144334\n323. -5.67701923698093\n324. -4.44026362284416\n325. 6.98206605959166\n326. -7.44138611063914\n327. -8.25328746759612\n328. 3.08697912188472\n329. -1.66082585444337\n330. -5.56889408511756\n331. 0.80320365929532\n332. 0.155151335517473\n333. -5.87878063820239\n334. 1.30841354427724\n335. 0.568261819966608\n336. 0.0876718935617191\n337. 2.08988262748738\n338. 0.645076830526762\n339. 1.73547897160029\n340. 3.96703201868121\n341. -8.36038707983562\n342. 1.34286046150936\n343. -0.260679377000201\n344. -6.74743575008762\n345. -0.84171146620929\n346. -4.32935652183204\n347. 0.410843177754941\n348. -5.0689976216841\n349. -3.25044000296612\n350. 1.00931684038613\n351. -7.14295679367956\n352. -3.93549790801137\n353. -5.13551464701141\n354. 1.22725691935773\n355. 0.730675886971937\n356. 0.22894125041563\n357. 9.04479136833447\n358. 1.85060505414265\n359. 0.30754127400013\n360. -6.55547848204588\n361. -1.17653852083583\n362. -5.77841401697054\n363. 8.88384430969438\n364. 3.22906062108149\n365. 2.57378900212535\n366. -2.39612069947077\n367. -2.20961562531437\n368. 4.09023594808582\n369. 5.52656111178686\n370. -2.7684548891848\n371. 2.21085699335833\n372. -6.97381227349194\n373. 1.94411608261464\n374. 0.81215895878023\n375. 3.91046175865625\n376. 7.74107802709449\n377. 1.74685536905235\n378. 8.46294468642265\n379. 1.89296204684382\n380. 0.347362374090039\n381. 6.10600165408079\n382. 3.37520282298647\n383. -2.85049570421751\n384. -5.59921816303597\n385. 2.12017353945902\n386. -10.5988697107839\n387. 4.41531147582219\n388. -6.79677589260649\n389. -2.48425183924894\n390. 0.65884684360077\n391. 4.12212341158721\n392. 5.13221256197073\n393. -2.84044256698127\n394. 4.34860000277899\n395. -1.68730615673564\n396. 1.72980228664068\n397. 1.64099993568971\n398. -2.2717622747428\n399. 0.253241585376372\n400. -1.76869543727474\n401. 5.06668190817084\n\n\n",
            "text/latex": "\\begin{enumerate*}\n\\item 1.32983971103954\n\\item -0.0842684949074055\n\\item 1.6418282839806\n\\item 4.85579652364396\n\\item -3.95473217994066\n\\item 6.07932437095695\n\\item -8.28764154670307\n\\item -1.76235111238134\n\\item 2.80300789927395\n\\item 2.79382809288984\n\\item -4.35057665594206\n\\item 5.03182854834535\n\\item 2.56381993223243\n\\item -5.95053920737496\n\\item 2.66919091817573\n\\item -4.37382014038684\n\\item 7.38099211573865\n\\item -2.77167007592237\n\\item 2.75409247552341\n\\item -6.3173427496381\n\\item -3.9554027169512\n\\item 3.14084385556316\n\\item 0.0704346859498628\n\\item -1.6503387931071\n\\item -2.75869537272689\n\\item 2.72494010475805\n\\item 5.78608850225072\n\\item 0.974550645999955\n\\item -3.85170153287692\n\\item 0.460335169179871\n\\item 2.74683211099961\n\\item 1.63599520841387\n\\item 0.248033890721217\n\\item 1.50002583168447\n\\item 0.137010925240986\n\\item -2.78798165522483\n\\item 0.359860914560386\n\\item 5.62997325584365\n\\item 1.01875380301141\n\\item 4.5933363674261\n\\item 4.26293430321698\n\\item 0.15082528701214\n\\item 1.44055102401796\n\\item -2.28622770426557\n\\item -1.26938041728931\n\\item -7.69301627031524\n\\item 1.67416001077555\n\\item -0.918281774261118\n\\item -3.91161767809194\n\\item -0.231392223066337\n\\item 4.76817269124325\n\\item -1.92871360079533\n\\item 3.35442989275629\n\\item -0.0868712392997963\n\\item -2.67723324474946\n\\item 1.00974820740117\n\\item -3.29565481356201\n\\item -5.05850296181023\n\\item -8.16379118816275\n\\item -1.52387232756814\n\\item 0.540567199399902\n\\item -0.794069974779632\n\\item -1.73839671152984\n\\item -5.03830950224227\n\\item 3.54762911947904\n\\item -3.3204908619374\n\\item -3.16598298548899\n\\item 6.21629777421845\n\\item 10.5507862858305\n\\item 9.7647897801354\n\\item -0.18836903112441\n\\item 0.763447111097094\n\\item -0.995934863635966\n\\item -1.23221180699579\n\\item 2.02828884498905\n\\item 0.839667734058139\n\\item -4.82091910765183\n\\item -4.52193266923632\n\\item -2.49865396913782\n\\item -2.96533854225464\n\\item -3.06762717747239\n\\item 0.831607294414255\n\\item -5.36676230240283\n\\item 2.02221663328737\n\\item -2.79560799136163\n\\item -3.4775428880252\n\\item -4.76266238123623\n\\item 2.05031814051728\n\\item 0.334536611488147\n\\item 1.96563026653587\n\\item -4.01780522419284\n\\item 7.14198506472701\n\\item -0.698719891592134\n\\item 8.16253529731262\n\\item 3.48185922216129\n\\item -0.816627770630532\n\\item 1.77372746972145\n\\item 2.98185504731987\n\\item -3.87888646922079\n\\item -3.06726173212127\n\\item 6.06386331820858\n\\item -3.77063746507207\n\\item 2.07823753609415\n\\item -0.495168699399755\n\\item 1.90218242595336\n\\item 2.48072033358272\n\\item 1.70707540579428\n\\item -11.2867730096609\n\\item 5.44405564276536\n\\item 0.468027402680434\n\\item -2.14078073884883\n\\item -0.408229112913261\n\\item -5.4536077718376\n\\item -9.83750508393143\n\\item -3.91738804526619\n\\item -2.8707717761605\n\\item -0.188615648734299\n\\item 6.31376638832933\n\\item -4.10606679764959\n\\item -2.24229022522167\n\\item 5.77496172536081\n\\item -4.64121234579193\n\\item 2.73008252152709\n\\item 3.04709488839859\n\\item 6.65809412219016\n\\item -1.35296898699039\n\\item 2.4678141004469\n\\item -0.427007464264989\n\\item -5.29607852184631\n\\item -2.13959546511796\n\\item -2.92178512329639\n\\item -2.6928630952101\n\\item -3.83929696211544\n\\item 11.5145612354106\n\\item -7.06251705643319\n\\item -5.70533865634633\n\\item -7.78135450167809\n\\item -3.81369799568688\n\\item 1.84606922355647\n\\item 0.799747877632797\n\\item -0.529767489398239\n\\item -2.71751531762357\n\\item 2.71201487269815\n\\item 3.85338701254489\n\\item -0.990280831763187\n\\item 2.13750974764093\n\\item -4.90084140319135\n\\item -1.10653868434866\n\\item 3.596438260681\n\\item -7.55907228306108\n\\item -7.31198426913676\n\\item -1.10308223243538\n\\item -4.93592371551523\n\\item 0.248752319522907\n\\item -4.26691331887878\n\\item -0.533782128162102\n\\item -1.3758075804576\n\\item 4.6650457095796\n\\item -1.21400946425439\n\\item 4.04399874970244\n\\item 1.72005869439874\n\\item 1.40521783424816\n\\item -1.43547508777522\n\\item 1.72749388253226\n\\item -2.35053655172771\n\\item -2.46902149870039\n\\item -2.11408364149406\n\\item 3.88270143532446\n\\item 1.1806742745008\n\\item 2.68466566556475\n\\item -5.31206655198571\n\\item -3.05170193541346\n\\item 5.24804516379203\n\\item 3.12347839523272\n\\item 0.977437085273152\n\\item -0.486208612120777\n\\item 0.237420566775768\n\\item -1.76725113570728\n\\item 7.12659269866919\n\\item -2.92154411181832\n\\item 0.333200944646194\n\\item 3.50618944074472\n\\item -4.7886708485301\n\\item -2.71335452146303\n\\item 0.929407869943361\n\\item 3.7557671695389\n\\item -11.9850827845941\n\\item 2.5092720427881\n\\item 1.23710869433268\n\\item -1.88930479692414\n\\item -1.12302018075417\n\\item 0.548614195074435\n\\item -9.42952348226407\n\\item -2.86883204927727\n\\item 6.6000559475446\n\\item 6.32504708840816\n\\item -0.890849036378199\n\\item -2.56890597251027\n\\item 3.19394155979859\n\\item 1.17660844474807\n\\item ⋯\n\\item -5.44218055540682\n\\item 0.339350848563697\n\\item -5.29798673851741\n\\item -4.48665782819643\n\\item 0.262117883849328\n\\item -2.81921687670547\n\\item 6.60213778445802\n\\item -1.92425564454368\n\\item -1.00774788565786\n\\item -1.44435005829354\n\\item -3.81599258687453\n\\item -9.31752920154059\n\\item 5.41754830883758\n\\item 5.90755728526506\n\\item 5.90470346360428\n\\item -0.535230544544447\n\\item 6.43183392222261\n\\item 0.751290367846195\n\\item 1.55630555637629\n\\item -6.05586138083441\n\\item 0.00107426030535862\n\\item -4.04468999650322\n\\item 5.26287817323623\n\\item 2.74525612993716\n\\item 1.92993508120486\n\\item 0.633990096199284\n\\item 1.42710513619573\n\\item -3.06664830960506\n\\item 0.229587910842099\n\\item 1.96006130433608\n\\item 2.20032835406357\n\\item 1.61024581361818\n\\item -3.11193625339314\n\\item -6.22681117354688\n\\item -2.56313123791921\n\\item 3.50634947182795\n\\item 3.84585793915653\n\\item -3.74479446498555\n\\item 1.77629340752651\n\\item -2.43199812591178\n\\item 0.982620489465376\n\\item -1.96807917042639\n\\item -0.854557624561096\n\\item 0.857889958093836\n\\item 1.43205611554953\n\\item -3.10926287170912\n\\item -10.6313234421905\n\\item -1.54274761323819\n\\item -3.0148192776133\n\\item 0.763243884444705\n\\item 6.01266682864321\n\\item -2.35440339766694\n\\item 2.80392788679904\n\\item -3.31439581704853\n\\item 8.03992351357795\n\\item -0.3055646300229\n\\item 3.22825460605918\n\\item -3.43094688213085\n\\item -2.24310225092972\n\\item -5.24157994056264\n\\item 1.74758450134266\n\\item -3.89801343926149\n\\item 2.90531341633834\n\\item 2.01142395767744\n\\item 4.10603015567654\n\\item 6.08533173623994\n\\item -0.704876864128096\n\\item -0.83967961904483\n\\item -5.66966951758474\n\\item 0.587764346925837\n\\item 0.610946417502475\n\\item -0.086596447724844\n\\item -5.82282078588014\n\\item -3.28782988554235\n\\item -3.28568905727292\n\\item 3.70172760535155\n\\item -10.1822846728599\n\\item 2.37260527160009\n\\item 3.26628376733089\n\\item -0.120963784076821\n\\item -5.6718660725308\n\\item 6.1398005430666\n\\item -5.95462160548425\n\\item -4.2887285709254\n\\item 1.34007309969809\n\\item -6.45475334412038\n\\item -4.49864308963197\n\\item -9.26537660370582\n\\item -3.97694130177479\n\\item -0.562999365904602\n\\item -2.26466265964223\n\\item 11.7869188490891\n\\item 1.49864002826689\n\\item 4.3941157521495\n\\item -0.141049585128258\n\\item 8.44010793409279\n\\item 1.35021725956523\n\\item -2.00364159549423\n\\item -3.58640364199726\n\\item 4.49962030775174\n\\item 1.52741108013049\n\\item -1.88826880995248\n\\item 3.25082830334946\n\\item -2.62714041846363\n\\item -2.28331328524888\n\\item -1.94844078427826\n\\item -0.345835866331583\n\\item 2.95886140833716\n\\item 1.60304031059354\n\\item -4.53760821712098\n\\item -1.82911923749691\n\\item 4.22911184192958\n\\item 2.14901715085261\n\\item 0.930442084771926\n\\item -5.91965790353134\n\\item 5.09722993360037\n\\item 2.87041056026385\n\\item -9.95787617231861\n\\item 0.221200390580464\n\\item -2.74019890175134\n\\item -0.539357676144334\n\\item -5.67701923698093\n\\item -4.44026362284416\n\\item 6.98206605959166\n\\item -7.44138611063914\n\\item -8.25328746759612\n\\item 3.08697912188472\n\\item -1.66082585444337\n\\item -5.56889408511756\n\\item 0.80320365929532\n\\item 0.155151335517473\n\\item -5.87878063820239\n\\item 1.30841354427724\n\\item 0.568261819966608\n\\item 0.0876718935617191\n\\item 2.08988262748738\n\\item 0.645076830526762\n\\item 1.73547897160029\n\\item 3.96703201868121\n\\item -8.36038707983562\n\\item 1.34286046150936\n\\item -0.260679377000201\n\\item -6.74743575008762\n\\item -0.84171146620929\n\\item -4.32935652183204\n\\item 0.410843177754941\n\\item -5.0689976216841\n\\item -3.25044000296612\n\\item 1.00931684038613\n\\item -7.14295679367956\n\\item -3.93549790801137\n\\item -5.13551464701141\n\\item 1.22725691935773\n\\item 0.730675886971937\n\\item 0.22894125041563\n\\item 9.04479136833447\n\\item 1.85060505414265\n\\item 0.30754127400013\n\\item -6.55547848204588\n\\item -1.17653852083583\n\\item -5.77841401697054\n\\item 8.88384430969438\n\\item 3.22906062108149\n\\item 2.57378900212535\n\\item -2.39612069947077\n\\item -2.20961562531437\n\\item 4.09023594808582\n\\item 5.52656111178686\n\\item -2.7684548891848\n\\item 2.21085699335833\n\\item -6.97381227349194\n\\item 1.94411608261464\n\\item 0.81215895878023\n\\item 3.91046175865625\n\\item 7.74107802709449\n\\item 1.74685536905235\n\\item 8.46294468642265\n\\item 1.89296204684382\n\\item 0.347362374090039\n\\item 6.10600165408079\n\\item 3.37520282298647\n\\item -2.85049570421751\n\\item -5.59921816303597\n\\item 2.12017353945902\n\\item -10.5988697107839\n\\item 4.41531147582219\n\\item -6.79677589260649\n\\item -2.48425183924894\n\\item 0.65884684360077\n\\item 4.12212341158721\n\\item 5.13221256197073\n\\item -2.84044256698127\n\\item 4.34860000277899\n\\item -1.68730615673564\n\\item 1.72980228664068\n\\item 1.64099993568971\n\\item -2.2717622747428\n\\item 0.253241585376372\n\\item -1.76869543727474\n\\item 5.06668190817084\n\\end{enumerate*}\n",
            "text/plain": [
              "   [1]   1.329839711  -0.084268495   1.641828284   4.855796524  -3.954732180\n",
              "   [6]   6.079324371  -8.287641547  -1.762351112   2.803007899   2.793828093\n",
              "  [11]  -4.350576656   5.031828548   2.563819932  -5.950539207   2.669190918\n",
              "  [16]  -4.373820140   7.380992116  -2.771670076   2.754092476  -6.317342750\n",
              "  [21]  -3.955402717   3.140843856   0.070434686  -1.650338793  -2.758695373\n",
              "  [26]   2.724940105   5.786088502   0.974550646  -3.851701533   0.460335169\n",
              "  [31]   2.746832111   1.635995208   0.248033891   1.500025832   0.137010925\n",
              "  [36]  -2.787981655   0.359860915   5.629973256   1.018753803   4.593336367\n",
              "  [41]   4.262934303   0.150825287   1.440551024  -2.286227704  -1.269380417\n",
              "  [46]  -7.693016270   1.674160011  -0.918281774  -3.911617678  -0.231392223\n",
              "  [51]   4.768172691  -1.928713601   3.354429893  -0.086871239  -2.677233245\n",
              "  [56]   1.009748207  -3.295654814  -5.058502962  -8.163791188  -1.523872328\n",
              "  [61]   0.540567199  -0.794069975  -1.738396712  -5.038309502   3.547629119\n",
              "  [66]  -3.320490862  -3.165982985   6.216297774  10.550786286   9.764789780\n",
              "  [71]  -0.188369031   0.763447111  -0.995934864  -1.232211807   2.028288845\n",
              "  [76]   0.839667734  -4.820919108  -4.521932669  -2.498653969  -2.965338542\n",
              "  [81]  -3.067627177   0.831607294  -5.366762302   2.022216633  -2.795607991\n",
              "  [86]  -3.477542888  -4.762662381   2.050318141   0.334536611   1.965630267\n",
              "  [91]  -4.017805224   7.141985065  -0.698719892   8.162535297   3.481859222\n",
              "  [96]  -0.816627771   1.773727470   2.981855047  -3.878886469  -3.067261732\n",
              " [101]   6.063863318  -3.770637465   2.078237536  -0.495168699   1.902182426\n",
              " [106]   2.480720334   1.707075406 -11.286773010   5.444055643   0.468027403\n",
              " [111]  -2.140780739  -0.408229113  -5.453607772  -9.837505084  -3.917388045\n",
              " [116]  -2.870771776  -0.188615649   6.313766388  -4.106066798  -2.242290225\n",
              " [121]   5.774961725  -4.641212346   2.730082522   3.047094888   6.658094122\n",
              " [126]  -1.352968987   2.467814100  -0.427007464  -5.296078522  -2.139595465\n",
              " [131]  -2.921785123  -2.692863095  -3.839296962  11.514561235  -7.062517056\n",
              " [136]  -5.705338656  -7.781354502  -3.813697996   1.846069224   0.799747878\n",
              " [141]  -0.529767489  -2.717515318   2.712014873   3.853387013  -0.990280832\n",
              " [146]   2.137509748  -4.900841403  -1.106538684   3.596438261  -7.559072283\n",
              " [151]  -7.311984269  -1.103082232  -4.935923716   0.248752320  -4.266913319\n",
              " [156]  -0.533782128  -1.375807580   4.665045710  -1.214009464   4.043998750\n",
              " [161]   1.720058694   1.405217834  -1.435475088   1.727493883  -2.350536552\n",
              " [166]  -2.469021499  -2.114083641   3.882701435   1.180674275   2.684665666\n",
              " [171]  -5.312066552  -3.051701935   5.248045164   3.123478395   0.977437085\n",
              " [176]  -0.486208612   0.237420567  -1.767251136   7.126592699  -2.921544112\n",
              " [181]   0.333200945   3.506189441  -4.788670849  -2.713354521   0.929407870\n",
              " [186]   3.755767170 -11.985082785   2.509272043   1.237108694  -1.889304797\n",
              " [191]  -1.123020181   0.548614195  -9.429523482  -2.868832049   6.600055948\n",
              " [196]   6.325047088  -0.890849036  -2.568905973   3.193941560   1.176608445\n",
              " [201]   2.321217717  -5.964475836  -1.076193289  -3.191386921   3.039573686\n",
              " [206]  -0.418522574   3.174259965  -5.212754443   4.676437493  -3.845607045\n",
              " [211]   1.055055660  -4.578894078  -2.343581599   0.096684647   0.179654576\n",
              " [216]   3.556815901  -0.556095133  -5.394384870  -0.655531208   1.059160442\n",
              " [221]  -1.763970534  -5.395033257  -4.548018065   1.236328499  -2.820881578\n",
              " [226]   1.919481510  -0.865300612  -7.880085796   1.751746130   8.297074122\n",
              " [231]   6.793369730   4.160192496  -2.108722708  -0.325976551 -10.632124223\n",
              " [236]  -2.699637730   0.467301457  -3.728375161   0.045638244  -1.208541051\n",
              " [241]  -6.459864386  -6.516477241   4.556238469  -2.369357685   1.310610449\n",
              " [246]  10.958832679  -8.012823833  -0.858589495   4.155439744  -7.519029478\n",
              " [251]  -2.727259407  -1.930533162  -6.946846521  -3.909181557   2.905370177\n",
              " [256]   2.248003966   0.647277621   2.272627927  -3.254896262  -2.754526156\n",
              " [261]  -0.275265796  -1.626275805  -0.294578967   1.745472949  -7.979929591\n",
              " [266]   1.090562572  -2.242460777  -5.173342272  -3.300422853   5.492996356\n",
              " [271]   4.705127778  -0.081334821  -3.534734977  -0.784124327  -4.456343929\n",
              " [276]   5.242398891   4.868877436  -2.988698054   2.257417319  -3.880305759\n",
              " [281]   1.441143965   0.372813833   2.189689692   3.181362340  -5.921463102\n",
              " [286]  -7.949874364   1.403441090   4.005761732   2.031902975   1.917246910\n",
              " [291]   1.430378320  -1.065358793   4.274430068  -4.182134303   3.319387281\n",
              " [296]   2.214535364   0.746322833  -0.893285964   1.480600370  -0.376836731\n",
              " [301]   8.447400152   2.550829268  -2.941343207  -1.451872239   3.578229204\n",
              " [306]  -0.828478434  -2.508355488   5.048233057  -8.795690681   1.004070898\n",
              " [311]   1.630005805  -2.498306285  -9.884938569   4.612721587  -0.331460921\n",
              " [316]  -0.585399729  -2.623207312   2.533632399  -4.426808159  -4.819320884\n",
              " [321]  -0.613202068   1.677593818  -1.334408052  -0.479833046   4.235212827\n",
              " [326]   1.813828923   0.874274295   2.380973217   9.730779074   0.455927595\n",
              " [331]  -6.735905252  -1.831882461  -0.196809192  -8.726190513  -4.209199009\n",
              " [336]   7.094289460  -7.589898080  -6.011920204  -2.051590676  -0.003011755\n",
              " [341]   3.179065061   0.999850786  -4.836354117  -6.564935758   4.557378337\n",
              " [346]  -3.639367458   0.273986564  -0.139337992  -4.430919836  -3.983353358\n",
              " [351]  -2.051207969   3.757188025  -1.994365221  -0.833244323   2.254790242\n",
              " [356]  -4.894221468   2.677732052   3.200078783  -0.634982101  -2.010038097\n",
              " [361]   1.560637371   1.531746217  -1.173444255   2.324940538   2.251755850\n",
              " [366]  -2.934654450  -2.755753492   2.093320842  -6.368455838  -4.748839876\n",
              " [371]  -0.113736983   2.993375794  -4.149998256  -0.962969484  -4.731039782\n",
              " [376]  -1.767440021  -0.465947796   3.412872343   4.492671847  -2.626836353\n",
              " [381]  -3.822887119   5.446036334  -5.267535988  -3.453646731   1.751399408\n",
              " [386]  -2.899937370  -0.300212860  -6.761323602  -0.006185823   4.071306873\n",
              " [391]  -6.156239596  -3.788634195   2.205872613   3.650109306  -0.728366668\n",
              " [396]  -0.057856303   5.487910294   0.178860181  -3.274934345   1.235406836\n",
              " [401]   3.006273957 -11.487021735   2.456889440  -1.391911756  -2.496540365\n",
              " [406]  -0.374015197  -2.455798587   2.401690845  -0.705817840   4.603563390\n",
              " [411]  -1.958296173   1.654482887  -2.239863694  -1.443012444  -4.237333022\n",
              " [416]  -0.893779316  -0.796488036   3.282701214   1.233067771   3.771985446\n",
              " [421]   1.918551078  -0.675879696   3.684134839   4.428845599   4.716750003\n",
              " [426]   2.807433868   3.631514608   1.426585154  -3.897698480   4.704060846\n",
              " [431]   0.559721637  -2.531594162  -0.410920607   1.392538397   0.691543435\n",
              " [436]  -6.495736351  -0.484880164   1.603511524  -5.756566861  -3.914175258\n",
              " [441]  -4.465060062  -0.873941345  -3.521535271   2.860481226  -2.823286248\n",
              " [446]   0.217443224  -8.669131428  -0.252529161  -4.896092567  -0.581191129\n",
              " [451]   5.180945773   3.251061595   8.729164555   2.482770584   2.903061060\n",
              " [456]   3.583701708  -4.784012668  -3.350124551  -2.734561387  -1.975098975\n",
              " [461]  -1.846884581  -6.078196793   0.563236744  -2.431871025 -10.016354167\n",
              " [466]   0.228241741  -7.762962953  -1.667771618   2.633113840   4.078404788\n",
              " [471]  -0.423036552  -6.570047383  -4.737446825  -5.075113121   2.971516580\n",
              " [476]  -2.477957893  -1.766652518  -3.341351216  -1.275072767   1.639661268\n",
              " [481]  -6.563718450  -4.459372324  -6.374117389   4.295460864   4.430729337\n",
              " [486]   0.941106787  -1.114886641  -1.952102847  -1.583272697   0.231314258\n",
              " [491]  -3.218889699   2.589565389   0.120139293  -1.176540799   1.255620404\n",
              " [496]  -0.893285964  -4.018169562   3.572465887  -3.698582940   5.967365733\n",
              " [501]  -2.220038672  -3.216497666  -2.522681867   0.525647119  -3.569627583\n",
              " [506]   3.174000907   1.541110141  -2.649397647  -2.875297233  -2.736094984\n",
              " [511]   0.519393236   2.082992073  -4.059079485  -1.856128795   7.286578374\n",
              " [516]  -1.110452786   0.700684905   3.270326939   1.420415671   1.182736201\n",
              " [521]  -7.597832352   3.297851238   2.348758602  -2.128421032   1.042115312\n",
              " [526]   3.881671752   0.059895400  -6.419510218  -3.643049925  -0.310861576\n",
              " [531]  -4.098827131  -3.118498404   0.678745544  -0.499426018  -1.448711752\n",
              " [536]  -3.557568974   1.000728811   3.091562949   1.103572374   0.274528132\n",
              " [541]   5.429559919   2.647738046   1.800029229  -3.467274094   0.704310760\n",
              " [546]   1.890896881   3.337953695   3.252993730  -6.493002149  -1.956173890\n",
              " [551]  -0.102658906  -0.870811758   4.759999181  -1.065568117  -1.752515918\n",
              " [556]   5.888443543  -4.641651226   1.807282861  -0.532558020   5.012850868\n",
              " [561]   2.149260210  -2.526538996  -5.603567590   0.886150512  -1.019093549\n",
              " [566]   0.534971564   0.561044793   3.118671354  -0.385092470  -3.081925560\n",
              " [571]  -0.456093343  -1.928031979  -3.516195505   0.164542885  -1.500809917\n",
              " [576]  -0.186617707  -0.730149777  -1.714263202   7.778345971   0.714384619\n",
              " [581]  -7.440307268  -4.886770327   2.736296206  -3.663756976  -8.260268361\n",
              " [586]   8.947913665   3.313026554   0.791551856  -0.115850556  -5.064334429\n",
              " [591]  12.565887783  -4.147502789  -2.256936198   5.213817634  -4.185224577\n",
              " [596]  -3.376413299   1.855692218 -12.204522277   2.510622605   0.506739297\n",
              " [601]   2.578922056  -0.159088524  -3.331495867   0.807723013   0.748931464\n",
              " [606]   5.286342359  -1.807121811   8.301931579   7.622164490  -1.927493112\n",
              " [611]  -0.722300872   3.238947668  -2.798462964  -3.234414831   0.053085544\n",
              " [616]  -0.353692803  -0.507127881   2.016899707  -6.631866726   6.679231959\n",
              " [621]  -5.013437098  -1.844844338  -0.499352935   0.567426937  -3.536828356\n",
              " [626]   0.658208619   3.778667988  -3.412583913  -3.385929001  -2.944191632\n",
              " [631]  -3.002769647   0.314271192   4.359283242  -1.207837703   4.236376694\n",
              " [636]   6.921764923  -6.038449713  -0.452331710  10.530907096   7.056663604\n",
              " [641]  43.745266747  -0.974189590  -7.593397525   0.993069912   1.564437730\n",
              " [646]   0.750687725   2.521359253   3.515534488  -5.441296437   0.016931269\n",
              " [651]   1.403754335 -10.456717539   9.513002153   0.843279940  -0.947841689\n",
              " [656]   1.203412104  -0.679900483   2.909241291   4.662212838   1.112896321\n",
              " [661]   0.616213831  -0.655218768   2.472621441   0.922230725  -3.792399642\n",
              " [666]  -6.167191007   6.557082110  -4.357853158   5.066115321   4.570503009\n",
              " [671]  -4.942750721  -1.644724127  -0.737976604   5.232909642  -1.240121569\n",
              " [676]  -9.570220852   1.917516344  -0.887702213  -1.337136122  -6.009988355\n",
              " [681]   5.373146012  -2.120809263  -7.040346540   3.351082856   9.804917988\n",
              " [686]  -4.131781368   3.631871268  -1.199901829  -1.943513136   4.016995083\n",
              " [691]  -2.363382088  -0.637742478  -2.675826694  -2.464799444   4.161843471\n",
              " [696]   0.388846397   1.762275521   2.576486038  -3.607446536  -9.546480916\n",
              " [701]   4.698229160   0.131942884  -1.485567856  -0.211174221   0.238045459\n",
              " [706]   8.069072735  -5.248705809   0.814165382   0.130518483  -9.067143143\n",
              " [711]  -0.014994269   9.958883836   2.943620031  -1.904744337   1.368964165\n",
              " [716]   2.739976084  -3.531408319  -1.950346529   2.821854752  -2.410606772\n",
              " [721]   6.621762589   3.861444871  -2.552827513  -0.513258635   0.686029055\n",
              " [726]  -2.983631113  -4.648175411  -0.229571716   2.871837587  -3.229445902\n",
              " [731]  -0.995187299   0.056670384  -3.462124406  -2.579446345  -1.193915054\n",
              " [736]   2.526896494   1.911553742  -4.889920286  -1.616028418  -1.622545434\n",
              " [741]  -5.677576631  -7.784011891  -3.753177985   0.899353757  -2.311155812\n",
              " [746]  -0.576328418  -2.784045519  -0.887368594  -3.638710521  -0.250956465\n",
              " [751]  -3.501504509  -1.046543368  -2.959287776  12.954509530  -5.472641718\n",
              " [756]   1.142216744   0.951555584  -2.592476293   3.859899599   3.522099903\n",
              " [761]  -2.987731904   3.981794553   0.586212198  -1.560620761   2.303505812\n",
              " [766]   2.502261949   1.256030715   2.277793953  -0.193018483  -0.700064543\n",
              " [771]   0.467505681  -0.327283393   4.236272021  -2.652467419   0.661365746\n",
              " [776]  -2.441457035   0.552453408   2.621019651   8.308234405  -5.411617035\n",
              " [781]  -3.087057507  -1.782198346   1.471269198  -1.413206774   0.566910562\n",
              " [786]  -5.013247623  -0.905108443  -5.177814572   4.333026738  -0.218439710\n",
              " [791]   1.878050672   0.186672755   0.920851586   3.183568905  -6.600482841\n",
              " [796] -10.204238900  -4.111392836  -2.393379396  -1.847536011  -3.593495530\n",
              " [801]   3.139671966  -0.851673602  -0.836954617   3.166899176   3.073016188\n",
              " [806]  -5.283992862  -1.295615211  -8.537642522  -0.018577031  -0.761543025\n",
              " [811]   0.603297496  -0.906148940   0.825874365  -2.046806256   2.626834537\n",
              " [816]   2.957620263  -1.326879771   2.685448759  -0.476946656   6.048096931\n",
              " [821]  -0.398214907   1.369816309  -3.952295326   0.710523309   7.404170247\n",
              " [826]   1.956356942   2.767478802   4.166093081   0.342757792  -3.540732991\n",
              " [831]   2.058198615 -10.750664986   4.948122224  -9.840368050  -2.713236105\n",
              " [836]  -3.103550195  -4.492630961  -1.337265329   7.109986940   0.779979499\n",
              " [841]   0.077521254   5.323971682  -3.055494296   1.507350310  -1.366471332\n",
              " [846]  -7.095674058   1.828257638   1.736873559   3.325364221   9.108705317\n",
              " [851]  -7.237296864   0.754553373   0.961000796  -6.494477370  -0.860956282\n",
              " [856]  -1.922059037   2.338647539   2.727626747  -8.877683078   0.531468294\n",
              " [861]  -0.076155679   0.172561122   2.879467139   0.374151266   1.841853840\n",
              " [866]  -1.517860172  -0.391749674  -6.194763825   1.753469811  -2.474892657\n",
              " [871]  -1.134155339  -0.447881304  -0.831661579  -1.193920528  -1.520369848\n",
              " [876]   1.966277064   2.165843448   3.480370639   0.479951744   1.673293954\n",
              " [881]   0.022745996   2.362092970  -3.922259791  -2.909565509   1.889810883\n",
              " [886]   0.943651149  -0.020454310   2.747275480   2.343276925   4.753913551\n",
              " [891]   7.889292717  -3.880778156   0.821779305   1.893906393  -2.975040777\n",
              " [896]  -0.636219507  11.834962199   7.558384090  -1.344185038   0.482987202\n",
              " [901]   2.481236215  -6.647760384  -4.883537649   4.288837220 -10.967191958\n",
              " [906]   2.642921516  -5.888625870  -7.358473458   7.043453701   1.838475650\n",
              " [911]   3.431517370  -0.923549219   2.591201590   2.488114673  -2.371579078\n",
              " [916]   0.184582181  -1.850412034  -2.932294820   1.639940381  -3.893963041\n",
              " [921]   2.478096067  -0.287301836  -3.420508054  -2.015031413  -2.396737939\n",
              " [926]   0.273873183  -1.004204494   6.481533058   4.306502252  -2.790865397\n",
              " [931]  -2.042489489   6.078263151  -3.504384057  -1.855937089   8.072161782\n",
              " [936]  -0.651547771   3.843447236  -3.633762433  -4.767114112   0.324541568\n",
              " [941]  -2.249248822  -2.893397367  -1.937768032  -2.477255502   2.038000836\n",
              " [946]   4.170245337  -3.948429381  -0.513182936   0.237335340  -1.551162206\n",
              " [951]  -6.603884503  -2.006031470   0.786059021   3.008553972  -4.452107062\n",
              " [956]   4.396277682  -1.966992952  -2.074845928  -1.973863384   3.029206853\n",
              " [961]   3.829998173  -3.624629377   4.444116118  -2.110388201   2.867431115\n",
              " [966]  -2.394025937  -7.254051787   2.295335147  -0.185921028   4.016908287\n",
              " [971]   0.454889541  -3.412227763   1.490700049   4.250995005  -7.859316348\n",
              " [976]  -0.428290723   0.085647517  -2.954985649   4.216712471  -6.409134662\n",
              " [981]   5.150528022  -0.435206271   2.695966019   1.096179868  -7.734054606\n",
              " [986]  -4.195650834   0.725280583  -5.353995168  -6.631652920   3.295215598\n",
              " [991]   1.643130016   1.656403824  -3.769668394  -0.408586295   3.158331223\n",
              " [996]   2.961283179  -6.839360104  -2.559156953  -1.525489498  -1.608602006\n",
              "[1001]   0.381558692  -6.429176078  -3.607059616  -0.296376492   0.469657923\n",
              "[1006]  -2.140592372  -5.048178766   3.910468497  -1.422927898   2.195506974\n",
              "[1011]  -2.379607244   2.179153101  -0.186517805  -3.731424626  -1.772457142\n",
              "[1016]  -0.173623643  -7.270098702  -2.492466531  -1.079589791   1.127456122\n",
              "[1021]  -7.284884514  -3.649905516   2.087754901  -5.274280018   3.979565728\n",
              "[1026]  -2.731255119  -1.518763150  -4.053887059   0.889528647   3.572422316\n",
              "[1031]  -0.480638511  -1.335589779  -5.630397618   3.952470840   0.819588597\n",
              "[1036]  -0.566773625   3.867929428  -5.355275438  -2.109010616  -2.067908319\n",
              "[1041]  -2.107298735  -4.434546117  -1.503328342  -3.245916116  -1.661462725\n",
              "[1046]  -1.572380266  -2.582514603  -1.238386845   1.417684034  -3.811174859\n",
              "[1051]  -8.514122550  -2.041860169  -6.465932785  -1.824050527   2.086798950\n",
              "[1056]   3.383260634  -2.700945880  -2.044379740 -10.878370956   0.493821409\n",
              "[1061]   0.564354621  -0.542894219   0.210627777  -6.297039993   0.661228877\n",
              "[1066]  -4.973236302  -1.826972602   0.096468477  -2.048895224  -5.301105197\n",
              "[1071]   2.783389932   1.937584537   0.086259908  -2.879134202   7.174860062\n",
              "[1076]   0.253870396   2.745120103  -3.627792933   1.510481982  -1.845601021\n",
              "[1081]   0.990363910  -1.025747533   4.351107165  -6.585737664   1.793188913\n",
              "[1086]  -5.504061169  -8.372124778  -3.292668685  -1.134781394  -1.171762735\n",
              "[1091]  -4.371275778  -4.336767089  -5.603299370   7.862604490  -0.151844849\n",
              "[1096]  -4.834165124  -3.902956937   4.782329105   0.251366032   7.879358405\n",
              "[1101]   1.782604779  -3.035198453  -4.984899978  -0.354701539  -0.177947627\n",
              "[1106]  -3.402162021   2.992561413   0.881068999  -8.879824103   5.413279734\n",
              "[1111]  -2.449660854   8.173892620  -0.519212512   3.368502063  -2.200923540\n",
              "[1116]  -2.736860519  -3.943035250   0.447013390   1.054933106  -6.422146591\n",
              "[1121]   7.119992889   0.818314301   4.759790121   0.767295533  -4.755050401\n",
              "[1126]  -3.286193130  -2.809563354   3.227120622  -3.331681488   0.457765602\n",
              "[1131]   4.807606714  -0.733171525  -0.167369921  -3.591104520   3.234669821\n",
              "[1136]   1.775631128   1.914094277   1.630156044  -0.255437792   1.463409883\n",
              "[1141]  -1.160399836  -0.341303376  -3.796503627   4.181661006  -4.020695537\n",
              "[1146]   0.207912066   4.588437793  -4.480981587   2.632794970  -5.075191591\n",
              "[1151]  -0.444577972   3.314387561   0.051330564   1.196490301   0.493343271\n",
              "[1156]   5.858973911   8.491178949   4.104800290   7.275734243  -1.296240958\n",
              "[1161]   1.956758051  -3.645971303  -1.365309182  -0.178739695  -4.022019890\n",
              "[1166]   6.385296892  -1.296881981  -6.098800024  -9.291101986   6.288541982\n",
              "[1171]  -2.226668424   0.523335320  -3.327928872  -3.369851276   2.018295409\n",
              "[1176]   0.736147677   2.016613476   3.635889197  -2.873394782  -4.313749727\n",
              "[1181]   5.056434416  -2.803155841  -1.298489385   3.055534921   2.485869259\n",
              "[1186]   2.486280526  -3.139012164  -6.326076798  -1.577163506   0.833956096\n",
              "[1191]   0.701293772   0.782203080   0.330074114   0.025648575  -1.861763417\n",
              "[1196]  -0.935687890   8.779671455  -4.258543231  -3.208181718   0.553435299\n",
              "[1201]  -0.058994172   1.065046614  -4.488348160  -3.099952381  -8.451759222\n",
              "[1206]  -6.852768017   2.440430536  -1.201488302  -4.810228128   0.225741719\n",
              "[1211]   2.702661004  -0.585761791  -0.721735258  -8.037988930  -6.130616646\n",
              "[1216]   0.213095413   3.980510472   1.168655143  -0.163032029  -1.328251510\n",
              "[1221]   3.570509843   4.930571811   1.525076336  -4.045234317  -0.452433373\n",
              "[1226]  -6.651083145  -3.705021756   1.256305460  -0.274484227  -1.424090137\n",
              "[1231]  -7.110178580   1.510351033   4.531881234  -4.658394363   1.678088731\n",
              "[1236]  -0.558903214   3.710666593  -5.941361600  -1.992455756  -0.046448691\n",
              "[1241]  -3.286394662   2.784837164  -2.235944635   0.922830198  -5.772616249\n",
              "[1246]   9.835984442  -6.844429869  -0.062864944  -0.533393367   7.088134180\n",
              "[1251]   1.425721630  -7.689558361  -5.404162723  -7.056701336  -1.940422443\n",
              "[1256]  -5.968313537  -3.865044317   4.247422998 -10.522087821   6.339585225\n",
              "[1261]  -2.339810448  -4.863366759   2.002254373  -2.975759933   3.743836111\n",
              "[1266]   6.416620111  -0.055854363  -1.384574082   2.395817476   0.451715562\n",
              "[1271]  -1.611206380   0.963707491   4.788590453   1.280439117   1.187155607\n",
              "[1276]  -3.407014097  -3.153862737  -0.392118494   2.053860280  -4.978708270\n",
              "[1281]   0.862660089   3.296180526  -2.857077510  -6.143540378   0.619537703\n",
              "[1286]   6.156068797  -1.914643082  -4.357853158  -7.425794812  -1.994538950\n",
              "[1291]  -1.029175640   4.862551624  -0.806267417  -0.165812064  -3.527788532\n",
              "[1296]   0.505439344  -3.884616905  -0.022278752 -10.497768950   4.086790605\n",
              "[1301]  -1.005806276   6.230678604  -0.800307307   2.185411508   0.600221301\n",
              "[1306]   0.608263739  -1.526622988   0.162001023  -1.122562655  -6.682400477\n",
              "[1311]  -7.160483528   5.667789177  -3.908543746  -0.763907183  -0.197197857\n",
              "[1316]   5.018580273   2.521005429  -2.951473062   1.393764546   2.075027665\n",
              "[1321]  -0.340209297   2.062996425  -0.905567476   0.693068898  -4.613166383\n",
              "[1326]   0.252760113   2.334124793   3.134094686  -6.587839908  -1.269915549\n",
              "[1331]  -3.980899495  -1.352219907   1.344643479   2.754331679  -5.827556253\n",
              "[1336]  -0.713675575   5.366753169   0.175721857  -4.088386469   2.962705060\n",
              "[1341]   0.836256706   4.952112193   2.273116584  -4.644617288   0.986173868\n",
              "[1346]   3.121887434  -1.164030371  -2.142523541   7.534149327  -2.178424147\n",
              "[1351]  -6.915074305   1.570916428   0.550884067   0.795569047   1.762314159\n",
              "[1356]   6.542151399  -2.263699415  -4.176726590   0.500530620   2.414658274\n",
              "[1361]   5.272349651  -2.921587777   3.712507844  -5.636816014  -0.183452612\n",
              "[1366]   0.447587124   2.158714882  -2.304264835   1.706131716   6.125062869\n",
              "[1371]   0.145054061  -8.920368704   5.164964876  -9.283740227   4.357353015\n",
              "[1376]   5.613277065   0.804044836   4.708419872   4.324413723   1.716057533\n",
              "[1381]   0.553336935   0.818031208   3.869774032   7.572974995  -4.827789327\n",
              "[1386]  -2.397365140  -0.890470772  -6.788302509  -3.367210608  -5.083010759\n",
              "[1391]  -0.461111276   5.181633668  -0.692331713  -1.171833322   6.649825628\n",
              "[1396]  -1.968247815   4.590421174   2.464444386   0.015259388   0.399094384\n",
              "[1401]   0.855976370  -9.145555512   5.260587871   2.801232818   0.134757909\n",
              "[1406]  -3.510729056   0.890201127  -2.352156001   0.030233626   2.359193131\n",
              "[1411]   2.788582551   1.616857343   5.526488723   2.062417839  -4.795942091\n",
              "[1416]   1.205618216  -9.311374826   6.310845993  -2.509418500  -5.535980299\n",
              "[1421]   1.250479005  -1.092503354   7.545639728  -4.325132021  -2.389637708\n",
              "[1426]  -1.105342763  -0.663006745   0.539664177  -1.984333677  -0.803754431\n",
              "[1431]   0.758249475   4.868647667   1.803209101  -3.482232814  -3.270836886\n",
              "[1436]   2.635749748  -3.744978418   0.454350599  -0.724529426  -4.046968050\n",
              "[1441]  -2.597147777  -3.686410458  -8.301990417  -8.033649990  -4.294900972\n",
              "[1446]   5.748941387   4.239154012  10.435247705   5.091632701   5.389381409\n",
              "[1451]  -2.438692290   2.923565934  -3.296715400  -4.121635321   3.576323674\n",
              "[1456]  -1.355523970  -6.132493632  -5.742471701  -8.935628768  -4.797503464\n",
              "[1461]  -4.400879282  -2.876792609  -0.920639618   1.194475431  -3.258414703\n",
              "[1466]  -6.066220921   3.058501793  -4.702318303   2.203193726  -2.494709777\n",
              "[1471]   0.282257164  -2.760761581   1.713981383   1.061212381  -5.813052933\n",
              "[1476]   0.993781747   4.546530944   0.850872645   2.919440149  -0.492168200\n",
              "[1481]  -2.812398194  -0.908879826  -2.682945653  -4.930954093  -1.576574222\n",
              "[1486]  -3.105073373   3.607323136  -1.895212087  -2.758442642  -5.379155006\n",
              "[1491]   1.061926664   2.987925822   4.092965088  -0.316912906   0.138493447\n",
              "[1496]  -6.298666922  -0.959958123  -3.470854101  -3.951840957  -1.583477652\n",
              "[1501]   1.431978738   1.916523033   0.728609942  -6.190309927  -2.767616895\n",
              "[1506]   3.391333150   2.370679924   0.541385387   5.279562544   2.707810069\n",
              "[1511]   0.352684839   6.193719691  33.409108225  -4.154232810  -3.173702969\n",
              "[1516]   4.737345371  -0.457560811  -2.574634547   2.374983969  -1.619975043\n",
              "[1521]   1.297168262   7.597633010  -0.182634201   3.219899531   2.600240570\n",
              "[1526]  -0.829611033  -1.432945026  -1.890687185   2.227219187  -3.806063696\n",
              "[1531]  -1.043186108  -0.432881586  -1.111789836  -0.177540390   2.592223426\n",
              "[1536]   5.503352409   3.453084655   0.865161303   2.985594734  -3.552574317\n",
              "[1541]  -6.255009992   3.766236339  -7.327753566   2.483225907  -1.172803901\n",
              "[1546]  -2.107748876  -7.446357689  -3.861484376  -1.030948104   0.713026639\n",
              "[1551]   0.786259026   1.866773018  -0.597247097  -1.442067623  -2.292950450\n",
              "[1556]   2.768409350  -4.482669568  -3.093873438   1.269982639   4.325229792\n",
              "[1561]   4.178411659   0.098737517   6.421807666   3.853632115  -7.006297840\n",
              "[1566]  -1.976540480   3.828391147  12.047265235  -2.324016547  -2.154683267\n",
              "[1571]  -0.923728472  -2.983631113   2.466226581   1.322547690  -0.175923278\n",
              "[1576]   3.705623496  -6.212871273   0.433370547   1.112160600  -6.702828398\n",
              "[1581]  -1.004544616   0.808060451  -8.750999134   3.039888339   3.001178176\n",
              "[1586]   6.589896874   0.584094477  -7.206239801   7.588618309  -1.661503247\n",
              "[1591]   3.091777458   1.247710292  -0.686467448   1.459848108  -3.099047778\n",
              "[1596]  -0.662804589  -4.063522821  -0.266932636  -2.636370917  -2.206158880\n",
              "[1601]  -6.875521780  14.059577140   4.186697503   5.027010759   0.637765780\n",
              "[1606]   0.312767616  -3.434834045  -1.923135289  -5.568843605  -7.154084627\n",
              "[1611]  -0.293374705  -0.015269784  -2.331157863  -9.350282888  -4.633944869\n",
              "[1616]  -2.296713914   4.422738503  -5.352894307   0.359590787  -3.565276613\n",
              "[1621]   4.139319926  -0.746903729   0.056837215  -2.458040464   5.768005875\n",
              "[1626]   1.521821882  -2.514263222  -4.160502371   5.399533598  -1.871375085\n",
              "[1631]  -0.089260042  -2.362727776  -5.071747863   4.019108324   4.714345738\n",
              "[1636]  -0.960621423   3.105368244  -1.332463805  -1.675392807   4.827070080\n",
              "[1641]  -6.497820553  -7.593923718  -6.346172348   6.931524501  -1.995534528\n",
              "[1646]  -3.910775218   0.780783180  -2.192101311   4.110026106   8.998417263\n",
              "[1651]   5.672984113  -8.513169699  -0.649889487  -9.173066950   0.642547586\n",
              "[1656]  -2.786029229  -0.576931265  -3.575233720  -3.284480945  -2.284221075\n",
              "[1661]  -2.766619595  -7.908902604  -3.446153060  -6.685060885  -5.997942256\n",
              "[1666]  -1.085029388   0.300884650   8.856918787  -6.033797435  -4.335183974\n",
              "[1671]  -3.202169404   4.482414650  -3.728953040  -1.865371841   1.349671624\n",
              "[1676]   5.634309638  -7.918947883   0.318189383   4.186776326   0.323180180\n",
              "[1681]  -2.472001581  -6.903401389  -1.159846459  -7.755054542   2.753881587\n",
              "[1686]  -6.543164393  -2.347342941   0.365846004   4.446188575  -0.627676324\n",
              "[1691]  -2.454455829  -2.128613383  -0.500337037  -1.645059605   1.096359530\n",
              "[1696]   0.090242137  -5.239722973  -6.806330997   1.617175865   7.183500672\n",
              "[1701]   0.435836360  -8.652281203  -5.623589175   1.053763905   2.101729161\n",
              "[1706]  -0.117047085   3.365948960   1.630946658   0.247847797   1.877292913\n",
              "[1711]  -4.303905995  11.086353710   3.847920831   5.557311410  -5.442180555\n",
              "[1716]   0.339350849  -5.297986739  -4.486657828   0.262117884  -2.819216877\n",
              "[1721]   6.602137784  -1.924255645  -1.007747886  -1.444350058  -3.815992587\n",
              "[1726]  -9.317529202   5.417548309   5.907557285   5.904703464  -0.535230545\n",
              "[1731]   6.431833922   0.751290368   1.556305556  -6.055861381   0.001074260\n",
              "[1736]  -4.044689997   5.262878173   2.745256130   1.929935081   0.633990096\n",
              "[1741]   1.427105136  -3.066648310   0.229587911   1.960061304   2.200328354\n",
              "[1746]   1.610245814  -3.111936253  -6.226811174  -2.563131238   3.506349472\n",
              "[1751]   3.845857939  -3.744794465   1.776293408  -2.431998126   0.982620489\n",
              "[1756]  -1.968079170  -0.854557625   0.857889958   1.432056116  -3.109262872\n",
              "[1761] -10.631323442  -1.542747613  -3.014819278   0.763243884   6.012666829\n",
              "[1766]  -2.354403398   2.803927887  -3.314395817   8.039923514  -0.305564630\n",
              "[1771]   3.228254606  -3.430946882  -2.243102251  -5.241579941   1.747584501\n",
              "[1776]  -3.898013439   2.905313416   2.011423958   4.106030156   6.085331736\n",
              "[1781]  -0.704876864  -0.839679619  -5.669669518   0.587764347   0.610946418\n",
              "[1786]  -0.086596448  -5.822820786  -3.287829886  -3.285689057   3.701727605\n",
              "[1791] -10.182284673   2.372605272   3.266283767  -0.120963784  -5.671866073\n",
              "[1796]   6.139800543  -5.954621605  -4.288728571   1.340073100  -6.454753344\n",
              "[1801]  -4.498643090  -9.265376604  -3.976941302  -0.562999366  -2.264662660\n",
              "[1806]  11.786918849   1.498640028   4.394115752  -0.141049585   8.440107934\n",
              "[1811]   1.350217260  -2.003641595  -3.586403642   4.499620308   1.527411080\n",
              "[1816]  -1.888268810   3.250828303  -2.627140418  -2.283313285  -1.948440784\n",
              "[1821]  -0.345835866   2.958861408   1.603040311  -4.537608217  -1.829119237\n",
              "[1826]   4.229111842   2.149017151   0.930442085  -5.919657904   5.097229934\n",
              "[1831]   2.870410560  -9.957876172   0.221200391  -2.740198902  -0.539357676\n",
              "[1836]  -5.677019237  -4.440263623   6.982066060  -7.441386111  -8.253287468\n",
              "[1841]   3.086979122  -1.660825854  -5.568894085   0.803203659   0.155151336\n",
              "[1846]  -5.878780638   1.308413544   0.568261820   0.087671894   2.089882627\n",
              "[1851]   0.645076831   1.735478972   3.967032019  -8.360387080   1.342860462\n",
              "[1856]  -0.260679377  -6.747435750  -0.841711466  -4.329356522   0.410843178\n",
              "[1861]  -5.068997622  -3.250440003   1.009316840  -7.142956794  -3.935497908\n",
              "[1866]  -5.135514647   1.227256919   0.730675887   0.228941250   9.044791368\n",
              "[1871]   1.850605054   0.307541274  -6.555478482  -1.176538521  -5.778414017\n",
              "[1876]   8.883844310   3.229060621   2.573789002  -2.396120699  -2.209615625\n",
              "[1881]   4.090235948   5.526561112  -2.768454889   2.210856993  -6.973812273\n",
              "[1886]   1.944116083   0.812158959   3.910461759   7.741078027   1.746855369\n",
              "[1891]   8.462944686   1.892962047   0.347362374   6.106001654   3.375202823\n",
              "[1896]  -2.850495704  -5.599218163   2.120173539 -10.598869711   4.415311476\n",
              "[1901]  -6.796775893  -2.484251839   0.658846844   4.122123412   5.132212562\n",
              "[1906]  -2.840442567   4.348600003  -1.687306157   1.729802287   1.640999936\n",
              "[1911]  -2.271762275   0.253241585  -1.768695437   5.066681908"
            ]
          },
          "metadata": {}
        }
      ]
    },
    {
      "cell_type": "code",
      "source": [
        "mse = mean((d)^2)\n",
        "mae = mean(abs(d))\n",
        "rmse = sqrt(mse)\n",
        "R2 = 1-(sum((d)^2)/sum((test_set$PE-mean(test_set$PE))^2))\n",
        "\n",
        "cat(\" MAE:\", mae, \"\\n\", \"MSE:\", mse, \"\\n\", \n",
        "    \"RMSE:\", rmse, \"\\n\", \"R-squared:\", R2)"
      ],
      "metadata": {
        "execution": {
          "iopub.status.busy": "2022-03-21T14:50:20.006412Z",
          "iopub.execute_input": "2022-03-21T14:50:20.008001Z",
          "iopub.status.idle": "2022-03-21T14:50:20.030248Z"
        },
        "trusted": true,
        "colab": {
          "base_uri": "https://localhost:8080/"
        },
        "id": "KboSkSzY-W4A",
        "outputId": "757ad9a1-aaeb-4140-c338-c337bb435088"
      },
      "execution_count": 12,
      "outputs": [
        {
          "output_type": "stream",
          "name": "stdout",
          "text": [
            " MAE: 3.170411 \n",
            " MSE: 17.36656 \n",
            " RMSE: 4.16732 \n",
            " R-squared: 0.939426"
          ]
        }
      ]
    },
    {
      "cell_type": "code",
      "source": [
        "#install.packages('hydroGOF')\n",
        "library(hydroGOF)\n",
        " mae = mae(y_pred, test_set$PE)\n",
        "mse = mse(y_pred, test_set$PE)\n",
        "#Calculate RMSE \n",
        "RMSE=rmse(y_pred,test_set$PE)\n",
        "cat(\" MAE:\", mae, \"\\n\", \"MSE:\", mse, \"\\n\", \n",
        "    \"RMSE:\", rmse, \"\\n\")"
      ],
      "metadata": {
        "execution": {
          "iopub.status.busy": "2022-03-21T14:50:20.033480Z",
          "iopub.execute_input": "2022-03-21T14:50:20.034959Z",
          "iopub.status.idle": "2022-03-21T14:50:20.744692Z"
        },
        "trusted": true,
        "colab": {
          "base_uri": "https://localhost:8080/"
        },
        "id": "7oRwk7h6-W4A",
        "outputId": "e30ab4b4-ea72-46cf-c01f-1cf0de2d6005"
      },
      "execution_count": 16,
      "outputs": [
        {
          "output_type": "stream",
          "name": "stdout",
          "text": [
            " MAE: 3.170411 \n",
            " MSE: 17.36656 \n",
            " RMSE: 4.16732 \n"
          ]
        }
      ]
    },
    {
      "cell_type": "code",
      "source": [
        "#Correlation, Variance and Covariance\n",
        "Correlation = cor(y_pred, test_set$PE)\n",
        "Covariance = cov(y_pred, test_set$PE)\n",
        "Variance = var(y_pred, test_set$PE)\n",
        "cat(\"Correlation:\", Correlation, \"\\n\", \"Covariance:\", Covariance, \"\\n\", \n",
        "    \"Variance:\", Variance, \"\\n\")"
      ],
      "metadata": {
        "execution": {
          "iopub.status.busy": "2022-03-21T14:50:20.747974Z",
          "iopub.execute_input": "2022-03-21T14:50:20.750032Z",
          "iopub.status.idle": "2022-03-21T14:50:20.772273Z"
        },
        "trusted": true,
        "colab": {
          "base_uri": "https://localhost:8080/"
        },
        "id": "yYLviiJd-W4B",
        "outputId": "bca5b6f4-ae44-451a-c387-972746718feb"
      },
      "execution_count": 17,
      "outputs": [
        {
          "output_type": "stream",
          "name": "stdout",
          "text": [
            "Correlation: 0.9700344 \n",
            " Covariance: 278.987 \n",
            " Variance: 278.987 \n"
          ]
        }
      ]
    },
    {
      "cell_type": "code",
      "source": [
        "h2o.shutdown()"
      ],
      "metadata": {
        "execution": {
          "iopub.status.busy": "2022-03-21T14:50:20.774513Z",
          "iopub.execute_input": "2022-03-21T14:50:20.775846Z",
          "iopub.status.idle": "2022-03-21T14:53:14.999721Z"
        },
        "trusted": true,
        "colab": {
          "base_uri": "https://localhost:8080/"
        },
        "id": "HZvWEKD7-W4B",
        "outputId": "ee0ca46b-de3f-454c-8904-2ec3686fd0d3"
      },
      "execution_count": 18,
      "outputs": [
        {
          "name": "stdout",
          "output_type": "stream",
          "text": [
            "Are you sure you want to shutdown the H2O instance running at http://localhost:54321/ (Y/N)? Y\n"
          ]
        }
      ]
    }
  ]
}