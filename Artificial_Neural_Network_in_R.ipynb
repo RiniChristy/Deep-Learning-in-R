{
  "metadata": {
    "kernelspec": {
      "name": "ir",
      "display_name": "R",
      "language": "R"
    },
    "language_info": {
      "name": "R",
      "codemirror_mode": "r",
      "pygments_lexer": "r",
      "mimetype": "text/x-r-source",
      "file_extension": ".r",
      "version": "4.0.5"
    },
    "colab": {
      "name": "Artificial Neural Network in R.ipynb",
      "provenance": []
    }
  },
  "nbformat_minor": 0,
  "nbformat": 4,
  "cells": [
    {
      "cell_type": "markdown",
      "source": [
        "# **Artificial Neural Network in R**"
      ],
      "metadata": {
        "id": "ZjL28zh4MA3J"
      }
    },
    {
      "cell_type": "markdown",
      "source": [
        "## **Part 1 - Data Preprocessing**"
      ],
      "metadata": {
        "id": "JJXRPkqUMA3P"
      }
    },
    {
      "cell_type": "markdown",
      "source": [
        "### **Importing the dataset**"
      ],
      "metadata": {
        "id": "ouhz_oIqMA3Q"
      }
    },
    {
      "cell_type": "code",
      "source": [
        "ds = read.csv('/content/Churn_Modelling.csv')\n",
        "head(ds)"
      ],
      "metadata": {
        "execution": {
          "iopub.status.busy": "2022-03-20T19:39:49.278028Z",
          "iopub.execute_input": "2022-03-20T19:39:49.279629Z",
          "iopub.status.idle": "2022-03-20T19:39:49.400398Z"
        },
        "trusted": true,
        "colab": {
          "base_uri": "https://localhost:8080/",
          "height": 286
        },
        "id": "_4E5JMOlMA3R",
        "outputId": "db69e87a-ab19-4063-9650-9df5172bd327"
      },
      "execution_count": 1,
      "outputs": [
        {
          "output_type": "display_data",
          "data": {
            "text/html": [
              "<table class=\"dataframe\">\n",
              "<caption>A data.frame: 6 × 14</caption>\n",
              "<thead>\n",
              "\t<tr><th></th><th scope=col>RowNumber</th><th scope=col>CustomerId</th><th scope=col>Surname</th><th scope=col>CreditScore</th><th scope=col>Geography</th><th scope=col>Gender</th><th scope=col>Age</th><th scope=col>Tenure</th><th scope=col>Balance</th><th scope=col>NumOfProducts</th><th scope=col>HasCrCard</th><th scope=col>IsActiveMember</th><th scope=col>EstimatedSalary</th><th scope=col>Exited</th></tr>\n",
              "\t<tr><th></th><th scope=col>&lt;int&gt;</th><th scope=col>&lt;int&gt;</th><th scope=col>&lt;chr&gt;</th><th scope=col>&lt;int&gt;</th><th scope=col>&lt;chr&gt;</th><th scope=col>&lt;chr&gt;</th><th scope=col>&lt;int&gt;</th><th scope=col>&lt;int&gt;</th><th scope=col>&lt;dbl&gt;</th><th scope=col>&lt;int&gt;</th><th scope=col>&lt;int&gt;</th><th scope=col>&lt;int&gt;</th><th scope=col>&lt;dbl&gt;</th><th scope=col>&lt;int&gt;</th></tr>\n",
              "</thead>\n",
              "<tbody>\n",
              "\t<tr><th scope=row>1</th><td>1</td><td>15634602</td><td>Hargrave</td><td>619</td><td>France</td><td>Female</td><td>42</td><td>2</td><td>     0.00</td><td>1</td><td>1</td><td>1</td><td>101348.88</td><td>1</td></tr>\n",
              "\t<tr><th scope=row>2</th><td>2</td><td>15647311</td><td>Hill    </td><td>608</td><td>Spain </td><td>Female</td><td>41</td><td>1</td><td> 83807.86</td><td>1</td><td>0</td><td>1</td><td>112542.58</td><td>0</td></tr>\n",
              "\t<tr><th scope=row>3</th><td>3</td><td>15619304</td><td>Onio    </td><td>502</td><td>France</td><td>Female</td><td>42</td><td>8</td><td>159660.80</td><td>3</td><td>1</td><td>0</td><td>113931.57</td><td>1</td></tr>\n",
              "\t<tr><th scope=row>4</th><td>4</td><td>15701354</td><td>Boni    </td><td>699</td><td>France</td><td>Female</td><td>39</td><td>1</td><td>     0.00</td><td>2</td><td>0</td><td>0</td><td> 93826.63</td><td>0</td></tr>\n",
              "\t<tr><th scope=row>5</th><td>5</td><td>15737888</td><td>Mitchell</td><td>850</td><td>Spain </td><td>Female</td><td>43</td><td>2</td><td>125510.82</td><td>1</td><td>1</td><td>1</td><td> 79084.10</td><td>0</td></tr>\n",
              "\t<tr><th scope=row>6</th><td>6</td><td>15574012</td><td>Chu     </td><td>645</td><td>Spain </td><td>Male  </td><td>44</td><td>8</td><td>113755.78</td><td>2</td><td>1</td><td>0</td><td>149756.71</td><td>1</td></tr>\n",
              "</tbody>\n",
              "</table>\n"
            ],
            "text/markdown": "\nA data.frame: 6 × 14\n\n| <!--/--> | RowNumber &lt;int&gt; | CustomerId &lt;int&gt; | Surname &lt;chr&gt; | CreditScore &lt;int&gt; | Geography &lt;chr&gt; | Gender &lt;chr&gt; | Age &lt;int&gt; | Tenure &lt;int&gt; | Balance &lt;dbl&gt; | NumOfProducts &lt;int&gt; | HasCrCard &lt;int&gt; | IsActiveMember &lt;int&gt; | EstimatedSalary &lt;dbl&gt; | Exited &lt;int&gt; |\n|---|---|---|---|---|---|---|---|---|---|---|---|---|---|---|\n| 1 | 1 | 15634602 | Hargrave | 619 | France | Female | 42 | 2 |      0.00 | 1 | 1 | 1 | 101348.88 | 1 |\n| 2 | 2 | 15647311 | Hill     | 608 | Spain  | Female | 41 | 1 |  83807.86 | 1 | 0 | 1 | 112542.58 | 0 |\n| 3 | 3 | 15619304 | Onio     | 502 | France | Female | 42 | 8 | 159660.80 | 3 | 1 | 0 | 113931.57 | 1 |\n| 4 | 4 | 15701354 | Boni     | 699 | France | Female | 39 | 1 |      0.00 | 2 | 0 | 0 |  93826.63 | 0 |\n| 5 | 5 | 15737888 | Mitchell | 850 | Spain  | Female | 43 | 2 | 125510.82 | 1 | 1 | 1 |  79084.10 | 0 |\n| 6 | 6 | 15574012 | Chu      | 645 | Spain  | Male   | 44 | 8 | 113755.78 | 2 | 1 | 0 | 149756.71 | 1 |\n\n",
            "text/latex": "A data.frame: 6 × 14\n\\begin{tabular}{r|llllllllllllll}\n  & RowNumber & CustomerId & Surname & CreditScore & Geography & Gender & Age & Tenure & Balance & NumOfProducts & HasCrCard & IsActiveMember & EstimatedSalary & Exited\\\\\n  & <int> & <int> & <chr> & <int> & <chr> & <chr> & <int> & <int> & <dbl> & <int> & <int> & <int> & <dbl> & <int>\\\\\n\\hline\n\t1 & 1 & 15634602 & Hargrave & 619 & France & Female & 42 & 2 &      0.00 & 1 & 1 & 1 & 101348.88 & 1\\\\\n\t2 & 2 & 15647311 & Hill     & 608 & Spain  & Female & 41 & 1 &  83807.86 & 1 & 0 & 1 & 112542.58 & 0\\\\\n\t3 & 3 & 15619304 & Onio     & 502 & France & Female & 42 & 8 & 159660.80 & 3 & 1 & 0 & 113931.57 & 1\\\\\n\t4 & 4 & 15701354 & Boni     & 699 & France & Female & 39 & 1 &      0.00 & 2 & 0 & 0 &  93826.63 & 0\\\\\n\t5 & 5 & 15737888 & Mitchell & 850 & Spain  & Female & 43 & 2 & 125510.82 & 1 & 1 & 1 &  79084.10 & 0\\\\\n\t6 & 6 & 15574012 & Chu      & 645 & Spain  & Male   & 44 & 8 & 113755.78 & 2 & 1 & 0 & 149756.71 & 1\\\\\n\\end{tabular}\n",
            "text/plain": [
              "  RowNumber CustomerId Surname  CreditScore Geography Gender Age Tenure\n",
              "1 1         15634602   Hargrave 619         France    Female 42  2     \n",
              "2 2         15647311   Hill     608         Spain     Female 41  1     \n",
              "3 3         15619304   Onio     502         France    Female 42  8     \n",
              "4 4         15701354   Boni     699         France    Female 39  1     \n",
              "5 5         15737888   Mitchell 850         Spain     Female 43  2     \n",
              "6 6         15574012   Chu      645         Spain     Male   44  8     \n",
              "  Balance   NumOfProducts HasCrCard IsActiveMember EstimatedSalary Exited\n",
              "1      0.00 1             1         1              101348.88       1     \n",
              "2  83807.86 1             0         1              112542.58       0     \n",
              "3 159660.80 3             1         0              113931.57       1     \n",
              "4      0.00 2             0         0               93826.63       0     \n",
              "5 125510.82 1             1         1               79084.10       0     \n",
              "6 113755.78 2             1         0              149756.71       1     "
            ]
          },
          "metadata": {}
        }
      ]
    },
    {
      "cell_type": "code",
      "source": [
        "ds = ds[4:14]"
      ],
      "metadata": {
        "execution": {
          "iopub.status.busy": "2022-03-20T19:39:51.967447Z",
          "iopub.execute_input": "2022-03-20T19:39:51.969045Z",
          "iopub.status.idle": "2022-03-20T19:39:51.981787Z"
        },
        "trusted": true,
        "id": "AnNZxTURMA3U"
      },
      "execution_count": 2,
      "outputs": []
    },
    {
      "cell_type": "markdown",
      "source": [
        "### **Encoding the categorical variables as factors**"
      ],
      "metadata": {
        "id": "r5w1Xld2MA3V"
      }
    },
    {
      "cell_type": "code",
      "source": [
        "ds$Geography = as.numeric(factor(ds$Geography,\n",
        "                                      levels = c('France', 'Spain', 'Germany'),\n",
        "                                      labels = c(1, 2, 3)))\n",
        "ds$Gender = as.numeric(factor(ds$Gender,\n",
        "                                   levels = c('Female', 'Male'),\n",
        "                                   labels = c(1, 2)))\n",
        "head(ds)"
      ],
      "metadata": {
        "execution": {
          "iopub.status.busy": "2022-03-20T19:39:58.311286Z",
          "iopub.execute_input": "2022-03-20T19:39:58.312901Z",
          "iopub.status.idle": "2022-03-20T19:39:58.344136Z"
        },
        "trusted": true,
        "colab": {
          "base_uri": "https://localhost:8080/",
          "height": 286
        },
        "id": "J6otvdJDMA3W",
        "outputId": "0fea8193-7994-452a-8340-678e1181e9b6"
      },
      "execution_count": 3,
      "outputs": [
        {
          "output_type": "display_data",
          "data": {
            "text/html": [
              "<table class=\"dataframe\">\n",
              "<caption>A data.frame: 6 × 11</caption>\n",
              "<thead>\n",
              "\t<tr><th></th><th scope=col>CreditScore</th><th scope=col>Geography</th><th scope=col>Gender</th><th scope=col>Age</th><th scope=col>Tenure</th><th scope=col>Balance</th><th scope=col>NumOfProducts</th><th scope=col>HasCrCard</th><th scope=col>IsActiveMember</th><th scope=col>EstimatedSalary</th><th scope=col>Exited</th></tr>\n",
              "\t<tr><th></th><th scope=col>&lt;int&gt;</th><th scope=col>&lt;dbl&gt;</th><th scope=col>&lt;dbl&gt;</th><th scope=col>&lt;int&gt;</th><th scope=col>&lt;int&gt;</th><th scope=col>&lt;dbl&gt;</th><th scope=col>&lt;int&gt;</th><th scope=col>&lt;int&gt;</th><th scope=col>&lt;int&gt;</th><th scope=col>&lt;dbl&gt;</th><th scope=col>&lt;int&gt;</th></tr>\n",
              "</thead>\n",
              "<tbody>\n",
              "\t<tr><th scope=row>1</th><td>619</td><td>1</td><td>1</td><td>42</td><td>2</td><td>     0.00</td><td>1</td><td>1</td><td>1</td><td>101348.88</td><td>1</td></tr>\n",
              "\t<tr><th scope=row>2</th><td>608</td><td>2</td><td>1</td><td>41</td><td>1</td><td> 83807.86</td><td>1</td><td>0</td><td>1</td><td>112542.58</td><td>0</td></tr>\n",
              "\t<tr><th scope=row>3</th><td>502</td><td>1</td><td>1</td><td>42</td><td>8</td><td>159660.80</td><td>3</td><td>1</td><td>0</td><td>113931.57</td><td>1</td></tr>\n",
              "\t<tr><th scope=row>4</th><td>699</td><td>1</td><td>1</td><td>39</td><td>1</td><td>     0.00</td><td>2</td><td>0</td><td>0</td><td> 93826.63</td><td>0</td></tr>\n",
              "\t<tr><th scope=row>5</th><td>850</td><td>2</td><td>1</td><td>43</td><td>2</td><td>125510.82</td><td>1</td><td>1</td><td>1</td><td> 79084.10</td><td>0</td></tr>\n",
              "\t<tr><th scope=row>6</th><td>645</td><td>2</td><td>2</td><td>44</td><td>8</td><td>113755.78</td><td>2</td><td>1</td><td>0</td><td>149756.71</td><td>1</td></tr>\n",
              "</tbody>\n",
              "</table>\n"
            ],
            "text/markdown": "\nA data.frame: 6 × 11\n\n| <!--/--> | CreditScore &lt;int&gt; | Geography &lt;dbl&gt; | Gender &lt;dbl&gt; | Age &lt;int&gt; | Tenure &lt;int&gt; | Balance &lt;dbl&gt; | NumOfProducts &lt;int&gt; | HasCrCard &lt;int&gt; | IsActiveMember &lt;int&gt; | EstimatedSalary &lt;dbl&gt; | Exited &lt;int&gt; |\n|---|---|---|---|---|---|---|---|---|---|---|---|\n| 1 | 619 | 1 | 1 | 42 | 2 |      0.00 | 1 | 1 | 1 | 101348.88 | 1 |\n| 2 | 608 | 2 | 1 | 41 | 1 |  83807.86 | 1 | 0 | 1 | 112542.58 | 0 |\n| 3 | 502 | 1 | 1 | 42 | 8 | 159660.80 | 3 | 1 | 0 | 113931.57 | 1 |\n| 4 | 699 | 1 | 1 | 39 | 1 |      0.00 | 2 | 0 | 0 |  93826.63 | 0 |\n| 5 | 850 | 2 | 1 | 43 | 2 | 125510.82 | 1 | 1 | 1 |  79084.10 | 0 |\n| 6 | 645 | 2 | 2 | 44 | 8 | 113755.78 | 2 | 1 | 0 | 149756.71 | 1 |\n\n",
            "text/latex": "A data.frame: 6 × 11\n\\begin{tabular}{r|lllllllllll}\n  & CreditScore & Geography & Gender & Age & Tenure & Balance & NumOfProducts & HasCrCard & IsActiveMember & EstimatedSalary & Exited\\\\\n  & <int> & <dbl> & <dbl> & <int> & <int> & <dbl> & <int> & <int> & <int> & <dbl> & <int>\\\\\n\\hline\n\t1 & 619 & 1 & 1 & 42 & 2 &      0.00 & 1 & 1 & 1 & 101348.88 & 1\\\\\n\t2 & 608 & 2 & 1 & 41 & 1 &  83807.86 & 1 & 0 & 1 & 112542.58 & 0\\\\\n\t3 & 502 & 1 & 1 & 42 & 8 & 159660.80 & 3 & 1 & 0 & 113931.57 & 1\\\\\n\t4 & 699 & 1 & 1 & 39 & 1 &      0.00 & 2 & 0 & 0 &  93826.63 & 0\\\\\n\t5 & 850 & 2 & 1 & 43 & 2 & 125510.82 & 1 & 1 & 1 &  79084.10 & 0\\\\\n\t6 & 645 & 2 & 2 & 44 & 8 & 113755.78 & 2 & 1 & 0 & 149756.71 & 1\\\\\n\\end{tabular}\n",
            "text/plain": [
              "  CreditScore Geography Gender Age Tenure Balance   NumOfProducts HasCrCard\n",
              "1 619         1         1      42  2           0.00 1             1        \n",
              "2 608         2         1      41  1       83807.86 1             0        \n",
              "3 502         1         1      42  8      159660.80 3             1        \n",
              "4 699         1         1      39  1           0.00 2             0        \n",
              "5 850         2         1      43  2      125510.82 1             1        \n",
              "6 645         2         2      44  8      113755.78 2             1        \n",
              "  IsActiveMember EstimatedSalary Exited\n",
              "1 1              101348.88       1     \n",
              "2 1              112542.58       0     \n",
              "3 0              113931.57       1     \n",
              "4 0               93826.63       0     \n",
              "5 1               79084.10       0     \n",
              "6 0              149756.71       1     "
            ]
          },
          "metadata": {}
        }
      ]
    },
    {
      "cell_type": "markdown",
      "source": [
        "### **Splitting the dataset into the Training set and Test set**"
      ],
      "metadata": {
        "id": "OlWXFhFHMA3Y"
      }
    },
    {
      "cell_type": "code",
      "source": [
        "install.packages('caTools')\n",
        "library(caTools)\n",
        "set.seed(123)\n",
        "split = sample.split(ds$Exited, SplitRatio = 0.8)\n",
        "training_set = subset(ds, split == TRUE)\n",
        "test_set = subset(ds, split == FALSE)"
      ],
      "metadata": {
        "execution": {
          "iopub.status.busy": "2022-03-20T19:43:52.110165Z",
          "iopub.execute_input": "2022-03-20T19:43:52.111659Z",
          "iopub.status.idle": "2022-03-20T19:43:52.136291Z"
        },
        "trusted": true,
        "colab": {
          "base_uri": "https://localhost:8080/"
        },
        "id": "ubcAskzKMA3Z",
        "outputId": "473a1cc1-65d7-4f5c-fe61-8d30961c291f"
      },
      "execution_count": 4,
      "outputs": [
        {
          "output_type": "stream",
          "name": "stderr",
          "text": [
            "Installing package into ‘/usr/local/lib/R/site-library’\n",
            "(as ‘lib’ is unspecified)\n",
            "\n",
            "also installing the dependency ‘bitops’\n",
            "\n",
            "\n"
          ]
        }
      ]
    },
    {
      "cell_type": "markdown",
      "source": [
        "### **Feature Scaling**"
      ],
      "metadata": {
        "id": "8Z-pWUhAMA3a"
      }
    },
    {
      "cell_type": "code",
      "source": [
        "training_set[-11] = scale(training_set[-11])\n",
        "test_set[-11] = scale(test_set[-11])"
      ],
      "metadata": {
        "execution": {
          "iopub.status.busy": "2022-03-20T19:43:58.297299Z",
          "iopub.execute_input": "2022-03-20T19:43:58.299154Z",
          "iopub.status.idle": "2022-03-20T19:43:58.332265Z"
        },
        "trusted": true,
        "id": "2UwWHBb1MA3b"
      },
      "execution_count": 5,
      "outputs": []
    },
    {
      "cell_type": "markdown",
      "source": [
        "## **Part 2 - Building & Training the ANN**"
      ],
      "metadata": {
        "id": "jprIELrCMA3c"
      }
    },
    {
      "cell_type": "markdown",
      "source": [
        "### **Fitting ANN to the Training set**"
      ],
      "metadata": {
        "id": "zybjjreHMA3c"
      }
    },
    {
      "cell_type": "code",
      "source": [
        "install.packages(\"h2o\")\n",
        "library(h2o)\n",
        "h2o.init(nthreads = -1)\n",
        "model = h2o.deeplearning(y = 'Exited',\n",
        "                         training_frame = as.h2o(training_set),\n",
        "                         activation = 'Rectifier',\n",
        "                         hidden = c(5,5),\n",
        "                         epochs = 100,\n",
        "                         train_samples_per_iteration = -2)"
      ],
      "metadata": {
        "execution": {
          "iopub.status.busy": "2022-03-20T20:06:44.088046Z",
          "iopub.execute_input": "2022-03-20T20:06:44.089530Z",
          "iopub.status.idle": "2022-03-20T20:07:28.349367Z"
        },
        "trusted": true,
        "colab": {
          "base_uri": "https://localhost:8080/"
        },
        "id": "tk2UMVCCMA3d",
        "outputId": "0aecbdcf-6966-4c97-8dee-563404787569"
      },
      "execution_count": 8,
      "outputs": [
        {
          "output_type": "stream",
          "name": "stderr",
          "text": [
            "Installing package into ‘/usr/local/lib/R/site-library’\n",
            "(as ‘lib’ is unspecified)\n",
            "\n",
            "also installing the dependency ‘RCurl’\n",
            "\n",
            "\n",
            "\n",
            "----------------------------------------------------------------------\n",
            "\n",
            "Your next step is to start H2O:\n",
            "    > h2o.init()\n",
            "\n",
            "For H2O package documentation, ask for help:\n",
            "    > ??h2o\n",
            "\n",
            "After starting H2O, you can use the Web UI at http://localhost:54321\n",
            "For more information visit https://docs.h2o.ai\n",
            "\n",
            "----------------------------------------------------------------------\n",
            "\n",
            "\n",
            "\n",
            "Attaching package: ‘h2o’\n",
            "\n",
            "\n",
            "The following objects are masked from ‘package:stats’:\n",
            "\n",
            "    cor, sd, var\n",
            "\n",
            "\n",
            "The following objects are masked from ‘package:base’:\n",
            "\n",
            "    &&, %*%, %in%, ||, apply, as.factor, as.numeric, colnames,\n",
            "    colnames<-, ifelse, is.character, is.factor, is.numeric, log,\n",
            "    log10, log1p, log2, round, signif, trunc\n",
            "\n",
            "\n"
          ]
        },
        {
          "output_type": "stream",
          "name": "stdout",
          "text": [
            "\n",
            "H2O is not running yet, starting it now...\n",
            "\n",
            "Note:  In case of errors look at the following log files:\n",
            "    /tmp/RtmpLaWNQq/file3a78838be/h2o_UnknownUser_started_from_r.out\n",
            "    /tmp/RtmpLaWNQq/file3a7e30fc30/h2o_UnknownUser_started_from_r.err\n",
            "\n",
            "\n",
            "Starting H2O JVM and connecting: .... Connection successful!\n",
            "\n",
            "R is connected to the H2O cluster: \n",
            "    H2O cluster uptime:         2 seconds 721 milliseconds \n",
            "    H2O cluster timezone:       Etc/UTC \n",
            "    H2O data parsing timezone:  UTC \n",
            "    H2O cluster version:        3.36.0.3 \n",
            "    H2O cluster version age:    1 month and 4 days  \n",
            "    H2O cluster name:           H2O_started_from_R_root_cti312 \n",
            "    H2O cluster total nodes:    1 \n",
            "    H2O cluster total memory:   3.17 GB \n",
            "    H2O cluster total cores:    2 \n",
            "    H2O cluster allowed cores:  2 \n",
            "    H2O cluster healthy:        TRUE \n",
            "    H2O Connection ip:          localhost \n",
            "    H2O Connection port:        54321 \n",
            "    H2O Connection proxy:       NA \n",
            "    H2O Internal Security:      FALSE \n",
            "    R Version:                  R version 4.1.2 (2021-11-01) \n",
            "\n",
            "  |======================================================================| 100%\n"
          ]
        },
        {
          "output_type": "stream",
          "name": "stderr",
          "text": [
            "Warning message in .h2o.processResponseWarnings(res):\n",
            "“Response is numeric, so the regression model will be trained. However, the cardinality is equaled to two, so if you want to train a classification model, convert the response column to categorical before training..\n",
            "”\n"
          ]
        },
        {
          "output_type": "stream",
          "name": "stdout",
          "text": [
            "  |======================================================================| 100%\n"
          ]
        }
      ]
    },
    {
      "cell_type": "markdown",
      "source": [
        "## **Part 3 - Making the predictions and evaluating the model**"
      ],
      "metadata": {
        "id": "GvaRLukEMA3d"
      }
    },
    {
      "cell_type": "markdown",
      "source": [
        "### **Predicting the Test set results**"
      ],
      "metadata": {
        "id": "8WpqLaNiMA3e"
      }
    },
    {
      "cell_type": "code",
      "source": [
        "y_pred = h2o.predict(model, newdata = as.h2o(test_set[-11]))\n",
        "y_pred = (y_pred > 0.5)\n",
        "y_pred = as.vector(y_pred)\n",
        "\n",
        "# Making the Confusion Matrix\n",
        "cm = table(test_set[, 11], y_pred)"
      ],
      "metadata": {
        "execution": {
          "iopub.status.busy": "2022-03-20T20:08:11.968103Z",
          "iopub.execute_input": "2022-03-20T20:08:11.970599Z",
          "iopub.status.idle": "2022-03-20T20:08:12.904751Z"
        },
        "trusted": true,
        "colab": {
          "base_uri": "https://localhost:8080/"
        },
        "id": "l-B9oskUMA3e",
        "outputId": "a0130b8e-5046-4de4-86f9-d6ae7db4e379"
      },
      "execution_count": 9,
      "outputs": [
        {
          "output_type": "stream",
          "name": "stdout",
          "text": [
            "  |======================================================================| 100%\n",
            "  |======================================================================| 100%\n"
          ]
        }
      ]
    },
    {
      "cell_type": "markdown",
      "source": [
        "### **Evaluation Metrics**"
      ],
      "metadata": {
        "id": "zdCZhcsIMA3f"
      }
    },
    {
      "cell_type": "code",
      "source": [
        "n = sum(cm) # number of instances\n",
        "nc = nrow(cm) # number of classes\n",
        "diag = diag(cm) # number of correctly classified instances per class \n",
        "rowsums = apply(cm, 1, sum) # number of instances per class\n",
        "colsums = apply(cm, 2, sum) # number of predictions per class\n",
        "p = rowsums / n # distribution of instances over the actual classes\n",
        "q = colsums / n # distribution of instances over the predicted classes\n",
        "accuracy = sum(diag) / n \n",
        "cat(\"Accuracy of Decision Tree Model is:\", accuracy)  \n",
        "precision = diag / colsums \n",
        "recall = diag / rowsums \n",
        "f1 = 2 * precision * recall / (precision + recall) \n",
        "data.frame(precision, recall, f1)"
      ],
      "metadata": {
        "execution": {
          "iopub.status.busy": "2022-03-20T20:08:22.179164Z",
          "iopub.execute_input": "2022-03-20T20:08:22.180697Z",
          "iopub.status.idle": "2022-03-20T20:08:22.220869Z"
        },
        "trusted": true,
        "colab": {
          "base_uri": "https://localhost:8080/",
          "height": 178
        },
        "id": "6abxSoeoMA3f",
        "outputId": "eb3f964f-4f92-4471-dd6a-017587dcc9bf"
      },
      "execution_count": 10,
      "outputs": [
        {
          "output_type": "stream",
          "name": "stdout",
          "text": [
            "Accuracy of Decision Tree Model is: 0.867"
          ]
        },
        {
          "output_type": "display_data",
          "data": {
            "text/html": [
              "<table class=\"dataframe\">\n",
              "<caption>A data.frame: 2 × 3</caption>\n",
              "<thead>\n",
              "\t<tr><th></th><th scope=col>precision</th><th scope=col>recall</th><th scope=col>f1</th></tr>\n",
              "\t<tr><th></th><th scope=col>&lt;dbl&gt;</th><th scope=col>&lt;dbl&gt;</th><th scope=col>&lt;dbl&gt;</th></tr>\n",
              "</thead>\n",
              "<tbody>\n",
              "\t<tr><th scope=row>0</th><td>0.8784940</td><td>0.9667294</td><td>0.9205021</td></tr>\n",
              "\t<tr><th scope=row>1</th><td>0.7854251</td><td>0.4766585</td><td>0.5932722</td></tr>\n",
              "</tbody>\n",
              "</table>\n"
            ],
            "text/markdown": "\nA data.frame: 2 × 3\n\n| <!--/--> | precision &lt;dbl&gt; | recall &lt;dbl&gt; | f1 &lt;dbl&gt; |\n|---|---|---|---|\n| 0 | 0.8784940 | 0.9667294 | 0.9205021 |\n| 1 | 0.7854251 | 0.4766585 | 0.5932722 |\n\n",
            "text/latex": "A data.frame: 2 × 3\n\\begin{tabular}{r|lll}\n  & precision & recall & f1\\\\\n  & <dbl> & <dbl> & <dbl>\\\\\n\\hline\n\t0 & 0.8784940 & 0.9667294 & 0.9205021\\\\\n\t1 & 0.7854251 & 0.4766585 & 0.5932722\\\\\n\\end{tabular}\n",
            "text/plain": [
              "  precision recall    f1       \n",
              "0 0.8784940 0.9667294 0.9205021\n",
              "1 0.7854251 0.4766585 0.5932722"
            ]
          },
          "metadata": {}
        }
      ]
    },
    {
      "cell_type": "code",
      "source": [
        "h2o.shutdown()"
      ],
      "metadata": {
        "execution": {
          "iopub.status.busy": "2022-03-20T20:08:29.896860Z",
          "iopub.execute_input": "2022-03-20T20:08:29.898396Z",
          "iopub.status.idle": "2022-03-20T20:08:33.847646Z"
        },
        "trusted": true,
        "colab": {
          "base_uri": "https://localhost:8080/"
        },
        "id": "tq4nOTdjMA3g",
        "outputId": "d18069dd-f8db-4294-fd6a-7f5e3226ce93"
      },
      "execution_count": 11,
      "outputs": [
        {
          "name": "stdout",
          "output_type": "stream",
          "text": [
            "Are you sure you want to shutdown the H2O instance running at http://localhost:54321/ (Y/N)? Y\n"
          ]
        }
      ]
    }
  ]
}